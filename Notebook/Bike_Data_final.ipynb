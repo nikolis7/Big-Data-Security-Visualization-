{
 "cells": [
  {
   "cell_type": "markdown",
   "id": "dc46faee",
   "metadata": {},
   "source": [
    "# Data Consolidattion "
   ]
  },
  {
   "cell_type": "code",
   "execution_count": 1,
   "id": "bcffce0a",
   "metadata": {},
   "outputs": [],
   "source": [
    "import os\n",
    "import glob\n",
    "import numpy as np\n",
    "import pandas as pd\n",
    "import matplotlib.pyplot as plt \n",
    "#!pip install geopandas\n",
    "#!pip install geopy\n",
    "from geopy.geocoders import Nominatim\n",
    "import re\n",
    "import matplotlib.pyplot as plt\n",
    "import numpy as np"
   ]
  },
  {
   "cell_type": "code",
   "execution_count": 2,
   "id": "8da77b0a",
   "metadata": {},
   "outputs": [],
   "source": [
    "extension = 'csv'\n",
    "all_filenames = [i for i in glob.glob('*.{}'.format(extension))]"
   ]
  },
  {
   "cell_type": "code",
   "execution_count": 3,
   "id": "2b0436c9",
   "metadata": {},
   "outputs": [],
   "source": [
    "filenames_2019 = all_filenames[:6]\n",
    "\n",
    "filenames_2020_2021 = all_filenames[6:]"
   ]
  },
  {
   "cell_type": "code",
   "execution_count": 4,
   "id": "6914cdd4",
   "metadata": {},
   "outputs": [],
   "source": [
    "#combine all files in the list\n",
    "df_19 = pd.concat([pd.read_csv(f) for f in filenames_2019 ])\n",
    "\n",
    "df_20_21 = pd.concat([pd.read_csv(f) for f in filenames_2020_2021 ])"
   ]
  },
  {
   "cell_type": "code",
   "execution_count": 5,
   "id": "903c8fd6",
   "metadata": {},
   "outputs": [],
   "source": [
    "# Create 4 empty columns in 2019 data\n",
    "\n",
    "df_19['start_lat'] = \" \"\n",
    "df_19['start_lng'] = \" \"\n",
    "df_19['end_lat'] = \" \"\n",
    "df_19['end_lng'] = \" \"\n",
    "\n",
    "df_19['ride_id'] = \" \"\n",
    "df_19['rideable_type'] = \" \"\n"
   ]
  },
  {
   "cell_type": "code",
   "execution_count": 6,
   "id": "91f3edfd",
   "metadata": {},
   "outputs": [],
   "source": [
    "# Create functions for geocoding \n",
    "\n",
    "def extract_lat(address):\n",
    "    try:\n",
    "        location = geolocator.geocode(address)\n",
    "        return location.latitude\n",
    "    except:\n",
    "        return ''\n",
    "\n",
    "    \n",
    "def extract_long(address):\n",
    "    try:\n",
    "        location = geolocator.geocode(address)\n",
    "        return location.longitude\n",
    "    except:\n",
    "        return ''"
   ]
  },
  {
   "cell_type": "code",
   "execution_count": 7,
   "id": "c863847f",
   "metadata": {},
   "outputs": [],
   "source": [
    "from geopy.geocoders import Nominatim\n",
    "geolocator = Nominatim(user_agent=\"example app\")"
   ]
  },
  {
   "cell_type": "markdown",
   "id": "75b429c2",
   "metadata": {},
   "source": [
    "### Make the same columns for all datasets "
   ]
  },
  {
   "cell_type": "code",
   "execution_count": 24,
   "id": "88edd8bf",
   "metadata": {},
   "outputs": [],
   "source": [
    "df_19 = df_19.loc[:, [\"ride_id\",\"rideable_type\",\"Start date\",\"End date\", \"Start station\", \"Start station number\"\n",
    "           ,\"End station\", \"End station number\",'start_lat', 'start_lng', 'end_lat', 'end_lng','Member type','Bike number','Duration']]\n",
    "\n",
    "\n",
    "df_19.columns = ['ride_id', 'rideable_type', 'started_at', 'ended_at','start_station_name', 'start_station_id', \n",
    "                 'end_station_name','end_station_id', 'start_lat', 'start_lng', 'end_lat', 'end_lng','member_casual', 'Bike number', 'Duration']\n"
   ]
  },
  {
   "cell_type": "code",
   "execution_count": 26,
   "id": "ff1cdc44",
   "metadata": {},
   "outputs": [],
   "source": [
    "# Add columns in 2020_2021 data \n",
    "\n",
    "df_20_21['Bike number']= \"\"\n",
    "\n",
    "#convert columns to datetime\n",
    "df_20_21[['started_at','ended_at']] = df_20_21[['started_at','ended_at']].apply(pd.to_datetime)\n",
    "\n",
    "#calculate difference between dates\n",
    "df_20_21['Duration'] = (df_20_21['ended_at'] - df_20_21['started_at']) / np.timedelta64(1, 's')\n"
   ]
  },
  {
   "cell_type": "code",
   "execution_count": 41,
   "id": "481d11ab",
   "metadata": {},
   "outputs": [],
   "source": [
    "# Change the wording in order to be aligned\n",
    "\n",
    "df_19[\"member_casual\"] = df_19[\"member_casual\"].map(lambda x: \"member\" if x==\"Member\" else \"casual\")"
   ]
  },
  {
   "cell_type": "markdown",
   "id": "139322b1",
   "metadata": {},
   "source": [
    "### Consolidate all data "
   ]
  },
  {
   "cell_type": "code",
   "execution_count": 43,
   "id": "a06512ee",
   "metadata": {},
   "outputs": [],
   "source": [
    "df = pd.concat([df_19, df_20_21])"
   ]
  },
  {
   "cell_type": "code",
   "execution_count": 69,
   "id": "903df3ca",
   "metadata": {},
   "outputs": [],
   "source": [
    "# Add semi annual column \n",
    "\n",
    "df[['started_at','ended_at']] = df[['started_at','ended_at']].apply(pd.to_datetime)\n",
    "\n",
    "df['semi_annual'] = df['started_at'].map(lambda x:\"H2 2019\" if x.year==2019 else (\"H2 2020\" if x.year==2020 else \"H2 2021\"))\n"
   ]
  },
  {
   "cell_type": "code",
   "execution_count": 71,
   "id": "87c9d6a9",
   "metadata": {},
   "outputs": [],
   "source": [
    "#export to csv\n",
    "df.to_csv( \"data.csv\", index=False)"
   ]
  },
  {
   "cell_type": "markdown",
   "id": "a122c298",
   "metadata": {},
   "source": [
    "### Import data "
   ]
  },
  {
   "cell_type": "code",
   "execution_count": 2,
   "id": "36d3cf37",
   "metadata": {},
   "outputs": [
    {
     "name": "stderr",
     "output_type": "stream",
     "text": [
      "C:\\Users\\Tsaro\\anaconda3\\lib\\site-packages\\IPython\\core\\interactiveshell.py:3166: DtypeWarning: Columns (8,9,10,11,13) have mixed types.Specify dtype option on import or set low_memory=False.\n",
      "  interactivity=interactivity, compiler=compiler, result=result)\n"
     ]
    }
   ],
   "source": [
    "df = pd.read_csv(\"data.csv\")"
   ]
  },
  {
   "cell_type": "code",
   "execution_count": 88,
   "id": "60eb2e6b",
   "metadata": {},
   "outputs": [
    {
     "data": {
      "text/plain": [
       "ride_id                     6\n",
       "rideable_type               0\n",
       "started_at                  0\n",
       "ended_at                    0\n",
       "start_station_name     178663\n",
       "start_station_id       178663\n",
       "end_station_name       201847\n",
       "end_station_id         201847\n",
       "start_lat                   8\n",
       "start_lng                   8\n",
       "end_lat                  7553\n",
       "end_lng                  7553\n",
       "member_casual               0\n",
       "Bike number           2895766\n",
       "Duration                    0\n",
       "semi_annual                 0\n",
       "dtype: int64"
      ]
     },
     "execution_count": 88,
     "metadata": {},
     "output_type": "execute_result"
    }
   ],
   "source": [
    "# Missing values\n",
    "df.isnull().sum()"
   ]
  },
  {
   "cell_type": "code",
   "execution_count": 3,
   "id": "3fbe2c6b",
   "metadata": {},
   "outputs": [
    {
     "data": {
      "text/plain": [
       "683"
      ]
     },
     "execution_count": 3,
     "metadata": {},
     "output_type": "execute_result"
    }
   ],
   "source": [
    "np.count_nonzero(df.start_station_id.unique())"
   ]
  },
  {
   "cell_type": "code",
   "execution_count": 4,
   "id": "d8b03a00",
   "metadata": {},
   "outputs": [
    {
     "data": {
      "text/plain": [
       "683"
      ]
     },
     "execution_count": 4,
     "metadata": {},
     "output_type": "execute_result"
    }
   ],
   "source": [
    "np.count_nonzero(df.end_station_id.unique())"
   ]
  },
  {
   "cell_type": "code",
   "execution_count": 5,
   "id": "34ce2dbe",
   "metadata": {},
   "outputs": [
    {
     "data": {
      "text/plain": [
       "713"
      ]
     },
     "execution_count": 5,
     "metadata": {},
     "output_type": "execute_result"
    }
   ],
   "source": [
    "np.count_nonzero(df.start_station_name.dropna().unique())"
   ]
  },
  {
   "cell_type": "code",
   "execution_count": 6,
   "id": "b05c9b13",
   "metadata": {},
   "outputs": [
    {
     "data": {
      "text/plain": [
       "713"
      ]
     },
     "execution_count": 6,
     "metadata": {},
     "output_type": "execute_result"
    }
   ],
   "source": [
    "np.count_nonzero(df.end_station_name.dropna().unique())"
   ]
  },
  {
   "cell_type": "code",
   "execution_count": 7,
   "id": "a52e0349",
   "metadata": {},
   "outputs": [],
   "source": [
    "start = df.start_station_name.dropna().unique()\n",
    "end = df.end_station_name.dropna().unique()"
   ]
  },
  {
   "cell_type": "code",
   "execution_count": 8,
   "id": "fd98520b",
   "metadata": {},
   "outputs": [],
   "source": [
    "from opencage.geocoder import OpenCageGeocode\n",
    "\n",
    "def geo_lat(x):\n",
    "    key = \"18f60230b17a4b76a633dd7eb0f9ee98\"\n",
    "    geocoder = OpenCageGeocode(key)\n",
    "    address = x\n",
    "    result = geocoder.geocode(address, no_annotations=\"1\")  \n",
    "    \n",
    "    return result[0]['geometry']['lat']\n",
    "\n",
    "def geo_lng(x):\n",
    "    key = \"18f60230b17a4b76a633dd7eb0f9ee98\"\n",
    "    geocoder = OpenCageGeocode(key)\n",
    "    address = x\n",
    "    result = geocoder.geocode(address, no_annotations=\"1\")  \n",
    "    \n",
    "    return result[0]['geometry']['lng']"
   ]
  },
  {
   "cell_type": "code",
   "execution_count": 9,
   "id": "c8f3fe6f",
   "metadata": {},
   "outputs": [],
   "source": [
    "addresses = start\n",
    "key = \"18f60230b17a4b76a633dd7eb0f9ee98\"\n",
    "geocoder = OpenCageGeocode(key)\n",
    "latitudes_start = []\n",
    "longitudes_start = []\n",
    "for address in addresses: \n",
    "    result = geocoder.geocode(address, no_annotations=\"1\")  \n",
    "    \n",
    "    if result and len(result):  \n",
    "        longitude = result[0][\"geometry\"][\"lng\"]  \n",
    "        latitude = result[0][\"geometry\"][\"lat\"] \n",
    "    else:  \n",
    "        longitude = \"N/A\"  \n",
    "        latitude = \"N/A\"  \n",
    "    \n",
    "    latitudes_start.append(latitude) \n",
    "    longitudes_start.append(longitude)"
   ]
  },
  {
   "cell_type": "code",
   "execution_count": 10,
   "id": "9725f2af",
   "metadata": {},
   "outputs": [],
   "source": [
    "addresses = end\n",
    "key = \"18f60230b17a4b76a633dd7eb0f9ee98\"\n",
    "geocoder = OpenCageGeocode(key)\n",
    "latitudes_end = []\n",
    "longitudes_end = []\n",
    "for address in addresses: \n",
    "    result = geocoder.geocode(address, no_annotations=\"1\")  \n",
    "    \n",
    "    if result and len(result):  \n",
    "        longitude = result[0][\"geometry\"][\"lng\"]  \n",
    "        latitude = result[0][\"geometry\"][\"lat\"] \n",
    "    else:  \n",
    "        longitude = \"N/A\"  \n",
    "        latitude = \"N/A\"  \n",
    "    \n",
    "    latitudes_end.append(latitude) \n",
    "    longitudes_end.append(longitude)"
   ]
  },
  {
   "cell_type": "code",
   "execution_count": 11,
   "id": "bd06d4d2",
   "metadata": {},
   "outputs": [],
   "source": [
    "df_geo = pd.DataFrame()"
   ]
  },
  {
   "cell_type": "code",
   "execution_count": 12,
   "id": "11d184c3",
   "metadata": {},
   "outputs": [],
   "source": [
    "df_geo['start'] = start"
   ]
  },
  {
   "cell_type": "code",
   "execution_count": 13,
   "id": "ad03fe0a",
   "metadata": {},
   "outputs": [],
   "source": [
    "df_geo['end'] = end"
   ]
  },
  {
   "cell_type": "code",
   "execution_count": 15,
   "id": "3ab1bb6f",
   "metadata": {},
   "outputs": [],
   "source": [
    "df_geo['start_lat'] = latitudes_start\n",
    "\n",
    "df_geo['start_long'] = longitudes_start\n",
    "\n",
    "df_geo['end_lat'] = latitudes_end\n",
    "\n",
    "df_geo['end_long'] = longitudes_end\n"
   ]
  },
  {
   "cell_type": "code",
   "execution_count": 21,
   "id": "cab919a9",
   "metadata": {},
   "outputs": [],
   "source": [
    "#export to csv\n",
    "df_geo.to_csv( \"geo.csv\", index=False)"
   ]
  },
  {
   "cell_type": "code",
   "execution_count": 26,
   "id": "4e6e600e",
   "metadata": {},
   "outputs": [],
   "source": [
    "# change column names \n",
    "df_geo.columns = ['start_station_name',\"end_station_name\", 'start_lat', 'start_lng','end_lat','end_lng']\n"
   ]
  },
  {
   "cell_type": "code",
   "execution_count": 42,
   "id": "e409164c",
   "metadata": {},
   "outputs": [],
   "source": [
    "df_geo_start = df_geo[['start_station_name', 'start_lat', 'start_lng']]\n",
    "\n",
    "df_geo_end = df_geo[['end_station_name', 'end_lat', 'end_lng']]"
   ]
  },
  {
   "cell_type": "code",
   "execution_count": 34,
   "id": "f90ffc97",
   "metadata": {},
   "outputs": [],
   "source": [
    "df_19 = df[df.semi_annual==\"H2 2019\"]"
   ]
  },
  {
   "cell_type": "code",
   "execution_count": 47,
   "id": "20c56c5c",
   "metadata": {},
   "outputs": [],
   "source": [
    "# Connect geocoding to dataframe of 2019 \n",
    "n_df_19 = pd.merge(df_19, df_geo_start, on ='start_station_name', how ='left')\n",
    "\n",
    "df_19_f = pd.merge(n_df_19, df_geo_end, on ='end_station_name', how ='left')"
   ]
  },
  {
   "cell_type": "code",
   "execution_count": 49,
   "id": "7a88c7e2",
   "metadata": {},
   "outputs": [],
   "source": [
    "df_19_f.drop(['start_lat_x', \"start_lng_x\", 'end_lat_x','end_lng_x'],axis=1, inplace=True)"
   ]
  },
  {
   "cell_type": "code",
   "execution_count": 53,
   "id": "28454c2f",
   "metadata": {},
   "outputs": [],
   "source": [
    "# change column names \n",
    "df_19_f.columns = ['ride_id', 'rideable_type', 'started_at', 'ended_at',\n",
    "       'start_station_name', 'start_station_id', 'end_station_name',\n",
    "       'end_station_id', 'member_casual', 'Bike number', 'Duration',\n",
    "       'semi_annual', 'start_lat', 'start_lng', 'end_lat', 'end_lng']\n",
    "\n",
    "\n",
    "# change the column order  \n",
    "\n",
    "df_19_f = df_19_f[['ride_id', 'rideable_type', 'started_at', 'ended_at',\n",
    "       'start_station_name', 'start_station_id', 'end_station_name',\n",
    "       'end_station_id', 'start_lat', 'start_lng', 'end_lat', 'end_lng',\n",
    "       'member_casual', 'Bike number', 'Duration', 'semi_annual']]\n"
   ]
  },
  {
   "cell_type": "code",
   "execution_count": null,
   "id": "2c8cc238",
   "metadata": {},
   "outputs": [],
   "source": [
    "df_rest = df[df.semi_annual!=\"H2 2019\"]\n",
    "\n",
    "df_rest.reset_index(drop=True, inplace=True)\n",
    "\n",
    "df_vf = pd.merge(df_19_f,df_rest, how='outer')\n"
   ]
  },
  {
   "cell_type": "code",
   "execution_count": 87,
   "id": "69d5efe8",
   "metadata": {},
   "outputs": [],
   "source": [
    "#export to csv\n",
    "df_vf.to_csv( \"final_data.csv\", index=False)\n"
   ]
  },
  {
   "cell_type": "code",
   "execution_count": 2,
   "id": "5da34c7e",
   "metadata": {},
   "outputs": [
    {
     "name": "stderr",
     "output_type": "stream",
     "text": [
      "C:\\Users\\Tsaro\\anaconda3\\lib\\site-packages\\IPython\\core\\interactiveshell.py:3166: DtypeWarning: Columns (13) have mixed types.Specify dtype option on import or set low_memory=False.\n",
      "  interactivity=interactivity, compiler=compiler, result=result)\n"
     ]
    }
   ],
   "source": [
    "# Open the data \n",
    "\n",
    "df = pd.read_csv('final_data.csv')\n",
    "        "
   ]
  },
  {
   "cell_type": "code",
   "execution_count": 90,
   "id": "02839ea2",
   "metadata": {},
   "outputs": [
    {
     "data": {
      "text/plain": [
       "ride_id                    14\n",
       "rideable_type               0\n",
       "started_at                  0\n",
       "ended_at                    0\n",
       "start_station_name     178663\n",
       "start_station_id       178663\n",
       "end_station_name       201847\n",
       "end_station_id         201847\n",
       "start_lat              108120\n",
       "start_lng              108120\n",
       "end_lat                117466\n",
       "end_lng                117466\n",
       "member_casual               0\n",
       "Bike number           2895766\n",
       "Duration                    0\n",
       "semi_annual                 0\n",
       "dtype: int64"
      ]
     },
     "execution_count": 90,
     "metadata": {},
     "output_type": "execute_result"
    }
   ],
   "source": [
    "# Missing values\n",
    "df.isnull().sum()"
   ]
  },
  {
   "cell_type": "code",
   "execution_count": 3,
   "id": "e91d8fde",
   "metadata": {},
   "outputs": [],
   "source": [
    "# Remove missing values since we have plenty of data \n",
    "\n",
    "df.dropna(subset=['start_station_name', 'start_station_id',\"end_station_name\",\"end_station_id\",\"start_lat\",\"start_lng\",\"end_lat\",\"end_lng\"], how=\"any\", inplace=True)"
   ]
  },
  {
   "cell_type": "code",
   "execution_count": 4,
   "id": "aca69a40",
   "metadata": {},
   "outputs": [],
   "source": [
    "#export to csv\n",
    "df.to_csv( \"final_clean_data.csv\", index=False)"
   ]
  },
  {
   "cell_type": "code",
   "execution_count": 14,
   "id": "3a045760",
   "metadata": {},
   "outputs": [
    {
     "name": "stderr",
     "output_type": "stream",
     "text": [
      "C:\\Users\\Tsaro\\anaconda3\\lib\\site-packages\\IPython\\core\\interactiveshell.py:3166: DtypeWarning: Columns (13) have mixed types.Specify dtype option on import or set low_memory=False.\n",
      "  interactivity=interactivity, compiler=compiler, result=result)\n"
     ]
    }
   ],
   "source": [
    "df = pd.read_csv('final_clean_data.csv')"
   ]
  },
  {
   "cell_type": "code",
   "execution_count": 4,
   "id": "596c2668",
   "metadata": {},
   "outputs": [
    {
     "data": {
      "text/plain": [
       "ride_id                    19\n",
       "rideable_type               0\n",
       "started_at                  0\n",
       "ended_at                    0\n",
       "start_station_name          0\n",
       "start_station_id            0\n",
       "end_station_name            0\n",
       "end_station_id              0\n",
       "start_lat                   0\n",
       "start_lng                   0\n",
       "end_lat                     0\n",
       "end_lng                     0\n",
       "member_casual               0\n",
       "Bike number           2624538\n",
       "Duration                    0\n",
       "semi_annual                 0\n",
       "dtype: int64"
      ]
     },
     "execution_count": 4,
     "metadata": {},
     "output_type": "execute_result"
    }
   ],
   "source": [
    "df.isnull().sum()"
   ]
  },
  {
   "cell_type": "code",
   "execution_count": 15,
   "id": "7645d7f7",
   "metadata": {},
   "outputs": [],
   "source": [
    "# remove those instances where ended at is before started at \n",
    "df = df[df.started_at<df.ended_at]"
   ]
  },
  {
   "cell_type": "code",
   "execution_count": 19,
   "id": "c8631fbd",
   "metadata": {},
   "outputs": [],
   "source": [
    "#export to csv\n",
    "df.to_csv( \"final_clean_data2.csv\", index=False)"
   ]
  },
  {
   "cell_type": "code",
   "execution_count": 3,
   "id": "b5d164ed",
   "metadata": {},
   "outputs": [
    {
     "data": {
      "text/plain": [
       "'    \\ndistance = 6373 *(2 * atan2(sqrt(sin((lat2 - lat1) / 2)**2 + cos(lat1) * cos(lat2) * sin((lon2 - lon1) / 2)**2), sqrt(1 - sin((lat2 - lat1) / 2)**2 + cos(lat1) * cos(lat2) * sin((lon2 - lon1) / 2)**2)))\\n'"
      ]
     },
     "execution_count": 3,
     "metadata": {},
     "output_type": "execute_result"
    }
   ],
   "source": [
    "# Create function that calculates the distance between geospatial data \n",
    "\n",
    "from math import sin, cos, sqrt, atan2, radians\n",
    "\n",
    "def distance(x,y,z,w): \n",
    "    \n",
    "        # approximate radius of earth in km\n",
    "        R = 6373.0\n",
    "        lat1 = radians(x) # start lat\n",
    "        lon1 = radians(y) # start log\n",
    "        lat2 = radians(z) # end lat \n",
    "        lon2 = radians(w) # end log \n",
    "\n",
    "        dlon = lon2 - lon1\n",
    "        dlat = lat2 - lat1\n",
    "\n",
    "        a = sin(dlat / 2)**2 + cos(lat1) * cos(lat2) * sin(dlon / 2)**2\n",
    "        c = 2 * atan2(sqrt(a), sqrt(1 - a))\n",
    "\n",
    "        distance = R * c\n",
    "    \n",
    "        return distance\n",
    "\n",
    "'''    \n",
    "distance = 6373 *(2 * atan2(sqrt(sin((lat2 - lat1) / 2)**2 + cos(lat1) * cos(lat2) * sin((lon2 - lon1) / 2)**2), sqrt(1 - sin((lat2 - lat1) / 2)**2 + cos(lat1) * cos(lat2) * sin((lon2 - lon1) / 2)**2)))\n",
    "''' "
   ]
  },
  {
   "cell_type": "code",
   "execution_count": 2,
   "id": "18f6e9c9",
   "metadata": {},
   "outputs": [
    {
     "name": "stderr",
     "output_type": "stream",
     "text": [
      "C:\\Users\\Tsaro\\anaconda3\\lib\\site-packages\\IPython\\core\\interactiveshell.py:3166: DtypeWarning: Columns (13) have mixed types.Specify dtype option on import or set low_memory=False.\n",
      "  interactivity=interactivity, compiler=compiler, result=result)\n"
     ]
    }
   ],
   "source": [
    "# Read data \n",
    "df = pd.read_csv( \"final_clean_data2.csv\")"
   ]
  },
  {
   "cell_type": "code",
   "execution_count": 3,
   "id": "62aa017e",
   "metadata": {},
   "outputs": [],
   "source": [
    "df19 = df[df.semi_annual==\"H2 2019\"]\n",
    "\n",
    "df20_21 = df[df.semi_annual!=\"H2 2019\"]"
   ]
  },
  {
   "cell_type": "code",
   "execution_count": null,
   "id": "5e2a3d0c",
   "metadata": {},
   "outputs": [],
   "source": [
    "### take the mean value of latitude and longitude for each station id"
   ]
  },
  {
   "cell_type": "code",
   "execution_count": 6,
   "id": "98772a36",
   "metadata": {},
   "outputs": [],
   "source": [
    "# Create start latitude \n",
    "\n",
    "df_start_lat = pd.DataFrame(df20_21.groupby(['start_station_id'])['start_lat'].mean())\n",
    "\n",
    "df_start_lat['start_station_id'] = df_start_lat.index\n",
    "\n",
    "df_start_lat = df_start_lat.reset_index(drop=True)\n"
   ]
  },
  {
   "cell_type": "code",
   "execution_count": 7,
   "id": "47af57d1",
   "metadata": {},
   "outputs": [
    {
     "data": {
      "text/html": [
       "<div>\n",
       "<style scoped>\n",
       "    .dataframe tbody tr th:only-of-type {\n",
       "        vertical-align: middle;\n",
       "    }\n",
       "\n",
       "    .dataframe tbody tr th {\n",
       "        vertical-align: top;\n",
       "    }\n",
       "\n",
       "    .dataframe thead th {\n",
       "        text-align: right;\n",
       "    }\n",
       "</style>\n",
       "<table border=\"1\" class=\"dataframe\">\n",
       "  <thead>\n",
       "    <tr style=\"text-align: right;\">\n",
       "      <th></th>\n",
       "      <th>start_lat</th>\n",
       "      <th>start_station_id</th>\n",
       "    </tr>\n",
       "  </thead>\n",
       "  <tbody>\n",
       "    <tr>\n",
       "      <th>0</th>\n",
       "      <td>38.858972</td>\n",
       "      <td>31000.0</td>\n",
       "    </tr>\n",
       "    <tr>\n",
       "      <th>1</th>\n",
       "      <td>38.857250</td>\n",
       "      <td>31001.0</td>\n",
       "    </tr>\n",
       "    <tr>\n",
       "      <th>2</th>\n",
       "      <td>38.856422</td>\n",
       "      <td>31002.0</td>\n",
       "    </tr>\n",
       "    <tr>\n",
       "      <th>3</th>\n",
       "      <td>38.860673</td>\n",
       "      <td>31003.0</td>\n",
       "    </tr>\n",
       "    <tr>\n",
       "      <th>4</th>\n",
       "      <td>38.857867</td>\n",
       "      <td>31004.0</td>\n",
       "    </tr>\n",
       "    <tr>\n",
       "      <th>...</th>\n",
       "      <td>...</td>\n",
       "      <td>...</td>\n",
       "    </tr>\n",
       "    <tr>\n",
       "      <th>672</th>\n",
       "      <td>38.879733</td>\n",
       "      <td>32607.0</td>\n",
       "    </tr>\n",
       "    <tr>\n",
       "      <th>673</th>\n",
       "      <td>38.885426</td>\n",
       "      <td>32608.0</td>\n",
       "    </tr>\n",
       "    <tr>\n",
       "      <th>674</th>\n",
       "      <td>38.885623</td>\n",
       "      <td>32609.0</td>\n",
       "    </tr>\n",
       "    <tr>\n",
       "      <th>675</th>\n",
       "      <td>38.964406</td>\n",
       "      <td>32900.0</td>\n",
       "    </tr>\n",
       "    <tr>\n",
       "      <th>676</th>\n",
       "      <td>38.963810</td>\n",
       "      <td>32901.0</td>\n",
       "    </tr>\n",
       "  </tbody>\n",
       "</table>\n",
       "<p>677 rows × 2 columns</p>\n",
       "</div>"
      ],
      "text/plain": [
       "     start_lat  start_station_id\n",
       "0    38.858972           31000.0\n",
       "1    38.857250           31001.0\n",
       "2    38.856422           31002.0\n",
       "3    38.860673           31003.0\n",
       "4    38.857867           31004.0\n",
       "..         ...               ...\n",
       "672  38.879733           32607.0\n",
       "673  38.885426           32608.0\n",
       "674  38.885623           32609.0\n",
       "675  38.964406           32900.0\n",
       "676  38.963810           32901.0\n",
       "\n",
       "[677 rows x 2 columns]"
      ]
     },
     "execution_count": 7,
     "metadata": {},
     "output_type": "execute_result"
    }
   ],
   "source": [
    "df_start_lat"
   ]
  },
  {
   "cell_type": "code",
   "execution_count": 8,
   "id": "72281320",
   "metadata": {},
   "outputs": [],
   "source": [
    "# Create start longitude \n",
    "\n",
    "df_start_lng = pd.DataFrame(df20_21.groupby(['start_station_id'])['start_lng'].mean())\n",
    "\n",
    "df_start_lng['start_station_id'] = df_start_lng.index\n",
    "\n",
    "df_start_lng = df_start_lng.reset_index(drop=True)\n"
   ]
  },
  {
   "cell_type": "code",
   "execution_count": 9,
   "id": "e5fc1131",
   "metadata": {},
   "outputs": [
    {
     "data": {
      "text/html": [
       "<div>\n",
       "<style scoped>\n",
       "    .dataframe tbody tr th:only-of-type {\n",
       "        vertical-align: middle;\n",
       "    }\n",
       "\n",
       "    .dataframe tbody tr th {\n",
       "        vertical-align: top;\n",
       "    }\n",
       "\n",
       "    .dataframe thead th {\n",
       "        text-align: right;\n",
       "    }\n",
       "</style>\n",
       "<table border=\"1\" class=\"dataframe\">\n",
       "  <thead>\n",
       "    <tr style=\"text-align: right;\">\n",
       "      <th></th>\n",
       "      <th>start_lng</th>\n",
       "      <th>start_station_id</th>\n",
       "    </tr>\n",
       "  </thead>\n",
       "  <tbody>\n",
       "    <tr>\n",
       "      <th>0</th>\n",
       "      <td>-77.053237</td>\n",
       "      <td>31000.0</td>\n",
       "    </tr>\n",
       "    <tr>\n",
       "      <th>1</th>\n",
       "      <td>-77.053359</td>\n",
       "      <td>31001.0</td>\n",
       "    </tr>\n",
       "    <tr>\n",
       "      <th>2</th>\n",
       "      <td>-77.049238</td>\n",
       "      <td>31002.0</td>\n",
       "    </tr>\n",
       "    <tr>\n",
       "      <th>3</th>\n",
       "      <td>-77.049490</td>\n",
       "      <td>31003.0</td>\n",
       "    </tr>\n",
       "    <tr>\n",
       "      <th>4</th>\n",
       "      <td>-77.059491</td>\n",
       "      <td>31004.0</td>\n",
       "    </tr>\n",
       "    <tr>\n",
       "      <th>...</th>\n",
       "      <td>...</td>\n",
       "      <td>...</td>\n",
       "    </tr>\n",
       "    <tr>\n",
       "      <th>672</th>\n",
       "      <td>-77.178400</td>\n",
       "      <td>32607.0</td>\n",
       "    </tr>\n",
       "    <tr>\n",
       "      <th>673</th>\n",
       "      <td>-77.173590</td>\n",
       "      <td>32608.0</td>\n",
       "    </tr>\n",
       "    <tr>\n",
       "      <th>674</th>\n",
       "      <td>-77.166917</td>\n",
       "      <td>32609.0</td>\n",
       "    </tr>\n",
       "    <tr>\n",
       "      <th>675</th>\n",
       "      <td>-77.010759</td>\n",
       "      <td>32900.0</td>\n",
       "    </tr>\n",
       "    <tr>\n",
       "      <th>676</th>\n",
       "      <td>-77.010266</td>\n",
       "      <td>32901.0</td>\n",
       "    </tr>\n",
       "  </tbody>\n",
       "</table>\n",
       "<p>677 rows × 2 columns</p>\n",
       "</div>"
      ],
      "text/plain": [
       "     start_lng  start_station_id\n",
       "0   -77.053237           31000.0\n",
       "1   -77.053359           31001.0\n",
       "2   -77.049238           31002.0\n",
       "3   -77.049490           31003.0\n",
       "4   -77.059491           31004.0\n",
       "..         ...               ...\n",
       "672 -77.178400           32607.0\n",
       "673 -77.173590           32608.0\n",
       "674 -77.166917           32609.0\n",
       "675 -77.010759           32900.0\n",
       "676 -77.010266           32901.0\n",
       "\n",
       "[677 rows x 2 columns]"
      ]
     },
     "execution_count": 9,
     "metadata": {},
     "output_type": "execute_result"
    }
   ],
   "source": [
    "df_start_lng"
   ]
  },
  {
   "cell_type": "code",
   "execution_count": 10,
   "id": "e3524765",
   "metadata": {},
   "outputs": [],
   "source": [
    "# Create end latitude \n",
    "\n",
    "df_end_lat = pd.DataFrame(df20_21.groupby(['end_station_id'])['end_lat'].mean())\n",
    "\n",
    "df_end_lat['end_station_id'] = df_end_lat.index\n",
    "\n",
    "df_end_lat = df_end_lat.reset_index(drop=True)\n"
   ]
  },
  {
   "cell_type": "code",
   "execution_count": 11,
   "id": "6e364907",
   "metadata": {},
   "outputs": [
    {
     "data": {
      "text/html": [
       "<div>\n",
       "<style scoped>\n",
       "    .dataframe tbody tr th:only-of-type {\n",
       "        vertical-align: middle;\n",
       "    }\n",
       "\n",
       "    .dataframe tbody tr th {\n",
       "        vertical-align: top;\n",
       "    }\n",
       "\n",
       "    .dataframe thead th {\n",
       "        text-align: right;\n",
       "    }\n",
       "</style>\n",
       "<table border=\"1\" class=\"dataframe\">\n",
       "  <thead>\n",
       "    <tr style=\"text-align: right;\">\n",
       "      <th></th>\n",
       "      <th>end_lat</th>\n",
       "      <th>end_station_id</th>\n",
       "    </tr>\n",
       "  </thead>\n",
       "  <tbody>\n",
       "    <tr>\n",
       "      <th>0</th>\n",
       "      <td>38.858972</td>\n",
       "      <td>31000.0</td>\n",
       "    </tr>\n",
       "    <tr>\n",
       "      <th>1</th>\n",
       "      <td>38.857251</td>\n",
       "      <td>31001.0</td>\n",
       "    </tr>\n",
       "    <tr>\n",
       "      <th>2</th>\n",
       "      <td>38.856427</td>\n",
       "      <td>31002.0</td>\n",
       "    </tr>\n",
       "    <tr>\n",
       "      <th>3</th>\n",
       "      <td>38.860680</td>\n",
       "      <td>31003.0</td>\n",
       "    </tr>\n",
       "    <tr>\n",
       "      <th>4</th>\n",
       "      <td>38.857866</td>\n",
       "      <td>31004.0</td>\n",
       "    </tr>\n",
       "    <tr>\n",
       "      <th>...</th>\n",
       "      <td>...</td>\n",
       "      <td>...</td>\n",
       "    </tr>\n",
       "    <tr>\n",
       "      <th>673</th>\n",
       "      <td>38.885426</td>\n",
       "      <td>32608.0</td>\n",
       "    </tr>\n",
       "    <tr>\n",
       "      <th>674</th>\n",
       "      <td>38.885624</td>\n",
       "      <td>32609.0</td>\n",
       "    </tr>\n",
       "    <tr>\n",
       "      <th>675</th>\n",
       "      <td>38.964406</td>\n",
       "      <td>32900.0</td>\n",
       "    </tr>\n",
       "    <tr>\n",
       "      <th>676</th>\n",
       "      <td>38.963808</td>\n",
       "      <td>32901.0</td>\n",
       "    </tr>\n",
       "    <tr>\n",
       "      <th>677</th>\n",
       "      <td>0.000000</td>\n",
       "      <td>32902.0</td>\n",
       "    </tr>\n",
       "  </tbody>\n",
       "</table>\n",
       "<p>678 rows × 2 columns</p>\n",
       "</div>"
      ],
      "text/plain": [
       "       end_lat  end_station_id\n",
       "0    38.858972         31000.0\n",
       "1    38.857251         31001.0\n",
       "2    38.856427         31002.0\n",
       "3    38.860680         31003.0\n",
       "4    38.857866         31004.0\n",
       "..         ...             ...\n",
       "673  38.885426         32608.0\n",
       "674  38.885624         32609.0\n",
       "675  38.964406         32900.0\n",
       "676  38.963808         32901.0\n",
       "677   0.000000         32902.0\n",
       "\n",
       "[678 rows x 2 columns]"
      ]
     },
     "execution_count": 11,
     "metadata": {},
     "output_type": "execute_result"
    }
   ],
   "source": [
    "df_end_lat"
   ]
  },
  {
   "cell_type": "code",
   "execution_count": 12,
   "id": "1da665e5",
   "metadata": {},
   "outputs": [],
   "source": [
    "# Create end longitude\n",
    "\n",
    "df_end_lng = pd.DataFrame(df20_21.groupby(['end_station_id'])['end_lng'].mean())\n",
    "\n",
    "df_end_lng['end_station_id'] = df_end_lng.index\n",
    "\n",
    "df_end_lng = df_end_lng.reset_index(drop=True)"
   ]
  },
  {
   "cell_type": "code",
   "execution_count": 13,
   "id": "b0b181b3",
   "metadata": {},
   "outputs": [
    {
     "data": {
      "text/html": [
       "<div>\n",
       "<style scoped>\n",
       "    .dataframe tbody tr th:only-of-type {\n",
       "        vertical-align: middle;\n",
       "    }\n",
       "\n",
       "    .dataframe tbody tr th {\n",
       "        vertical-align: top;\n",
       "    }\n",
       "\n",
       "    .dataframe thead th {\n",
       "        text-align: right;\n",
       "    }\n",
       "</style>\n",
       "<table border=\"1\" class=\"dataframe\">\n",
       "  <thead>\n",
       "    <tr style=\"text-align: right;\">\n",
       "      <th></th>\n",
       "      <th>end_lng</th>\n",
       "      <th>end_station_id</th>\n",
       "    </tr>\n",
       "  </thead>\n",
       "  <tbody>\n",
       "    <tr>\n",
       "      <th>0</th>\n",
       "      <td>-77.053231</td>\n",
       "      <td>31000.0</td>\n",
       "    </tr>\n",
       "    <tr>\n",
       "      <th>1</th>\n",
       "      <td>-77.053355</td>\n",
       "      <td>31001.0</td>\n",
       "    </tr>\n",
       "    <tr>\n",
       "      <th>2</th>\n",
       "      <td>-77.049236</td>\n",
       "      <td>31002.0</td>\n",
       "    </tr>\n",
       "    <tr>\n",
       "      <th>3</th>\n",
       "      <td>-77.049491</td>\n",
       "      <td>31003.0</td>\n",
       "    </tr>\n",
       "    <tr>\n",
       "      <th>4</th>\n",
       "      <td>-77.059489</td>\n",
       "      <td>31004.0</td>\n",
       "    </tr>\n",
       "    <tr>\n",
       "      <th>...</th>\n",
       "      <td>...</td>\n",
       "      <td>...</td>\n",
       "    </tr>\n",
       "    <tr>\n",
       "      <th>673</th>\n",
       "      <td>-77.173588</td>\n",
       "      <td>32608.0</td>\n",
       "    </tr>\n",
       "    <tr>\n",
       "      <th>674</th>\n",
       "      <td>-77.166915</td>\n",
       "      <td>32609.0</td>\n",
       "    </tr>\n",
       "    <tr>\n",
       "      <th>675</th>\n",
       "      <td>-77.010759</td>\n",
       "      <td>32900.0</td>\n",
       "    </tr>\n",
       "    <tr>\n",
       "      <th>676</th>\n",
       "      <td>-77.010268</td>\n",
       "      <td>32901.0</td>\n",
       "    </tr>\n",
       "    <tr>\n",
       "      <th>677</th>\n",
       "      <td>0.000000</td>\n",
       "      <td>32902.0</td>\n",
       "    </tr>\n",
       "  </tbody>\n",
       "</table>\n",
       "<p>678 rows × 2 columns</p>\n",
       "</div>"
      ],
      "text/plain": [
       "       end_lng  end_station_id\n",
       "0   -77.053231         31000.0\n",
       "1   -77.053355         31001.0\n",
       "2   -77.049236         31002.0\n",
       "3   -77.049491         31003.0\n",
       "4   -77.059489         31004.0\n",
       "..         ...             ...\n",
       "673 -77.173588         32608.0\n",
       "674 -77.166915         32609.0\n",
       "675 -77.010759         32900.0\n",
       "676 -77.010268         32901.0\n",
       "677   0.000000         32902.0\n",
       "\n",
       "[678 rows x 2 columns]"
      ]
     },
     "execution_count": 13,
     "metadata": {},
     "output_type": "execute_result"
    }
   ],
   "source": [
    "df_end_lng"
   ]
  },
  {
   "cell_type": "code",
   "execution_count": 14,
   "id": "3a01be32",
   "metadata": {},
   "outputs": [
    {
     "data": {
      "text/plain": [
       "Index(['ride_id', 'rideable_type', 'started_at', 'ended_at',\n",
       "       'start_station_name', 'start_station_id', 'end_station_name',\n",
       "       'end_station_id', 'start_lat', 'start_lng', 'end_lat', 'end_lng',\n",
       "       'member_casual', 'Bike number', 'Duration', 'semi_annual'],\n",
       "      dtype='object')"
      ]
     },
     "execution_count": 14,
     "metadata": {},
     "output_type": "execute_result"
    }
   ],
   "source": [
    "df19.columns"
   ]
  },
  {
   "cell_type": "code",
   "execution_count": 15,
   "id": "4bd416b2",
   "metadata": {},
   "outputs": [],
   "source": [
    "# Drop previous values from API \n",
    "\n",
    "df19 = df19.drop(['start_lat', 'start_lng', 'end_lat', 'end_lng'], axis = 1)"
   ]
  },
  {
   "cell_type": "code",
   "execution_count": 16,
   "id": "c3c57f9f",
   "metadata": {},
   "outputs": [
    {
     "data": {
      "text/html": [
       "<div>\n",
       "<style scoped>\n",
       "    .dataframe tbody tr th:only-of-type {\n",
       "        vertical-align: middle;\n",
       "    }\n",
       "\n",
       "    .dataframe tbody tr th {\n",
       "        vertical-align: top;\n",
       "    }\n",
       "\n",
       "    .dataframe thead th {\n",
       "        text-align: right;\n",
       "    }\n",
       "</style>\n",
       "<table border=\"1\" class=\"dataframe\">\n",
       "  <thead>\n",
       "    <tr style=\"text-align: right;\">\n",
       "      <th></th>\n",
       "      <th>ride_id</th>\n",
       "      <th>rideable_type</th>\n",
       "      <th>started_at</th>\n",
       "      <th>ended_at</th>\n",
       "      <th>start_station_name</th>\n",
       "      <th>start_station_id</th>\n",
       "      <th>end_station_name</th>\n",
       "      <th>end_station_id</th>\n",
       "      <th>member_casual</th>\n",
       "      <th>Bike number</th>\n",
       "      <th>Duration</th>\n",
       "      <th>semi_annual</th>\n",
       "    </tr>\n",
       "  </thead>\n",
       "  <tbody>\n",
       "    <tr>\n",
       "      <th>0</th>\n",
       "      <td></td>\n",
       "      <td></td>\n",
       "      <td>2019-07-01 00:00:05</td>\n",
       "      <td>2019-07-01 00:08:53</td>\n",
       "      <td>Wisconsin Ave &amp; O St NW</td>\n",
       "      <td>31312.0</td>\n",
       "      <td>20th &amp; O St NW / Dupont South</td>\n",
       "      <td>31234.0</td>\n",
       "      <td>member</td>\n",
       "      <td>W23055</td>\n",
       "      <td>528.0</td>\n",
       "      <td>H2 2019</td>\n",
       "    </tr>\n",
       "    <tr>\n",
       "      <th>1</th>\n",
       "      <td></td>\n",
       "      <td></td>\n",
       "      <td>2019-07-01 00:00:17</td>\n",
       "      <td>2019-07-01 00:09:26</td>\n",
       "      <td>15th St &amp; Constitution Ave NW</td>\n",
       "      <td>31321.0</td>\n",
       "      <td>8th &amp; D St NW</td>\n",
       "      <td>31270.0</td>\n",
       "      <td>member</td>\n",
       "      <td>W20124</td>\n",
       "      <td>548.0</td>\n",
       "      <td>H2 2019</td>\n",
       "    </tr>\n",
       "    <tr>\n",
       "      <th>2</th>\n",
       "      <td></td>\n",
       "      <td></td>\n",
       "      <td>2019-07-01 00:00:23</td>\n",
       "      <td>2019-07-01 00:27:16</td>\n",
       "      <td>Kennedy Center</td>\n",
       "      <td>31211.0</td>\n",
       "      <td>Henry Bacon Dr &amp; Lincoln Memorial Circle NW</td>\n",
       "      <td>31289.0</td>\n",
       "      <td>member</td>\n",
       "      <td>W00461</td>\n",
       "      <td>1612.0</td>\n",
       "      <td>H2 2019</td>\n",
       "    </tr>\n",
       "    <tr>\n",
       "      <th>3</th>\n",
       "      <td></td>\n",
       "      <td></td>\n",
       "      <td>2019-07-01 00:00:36</td>\n",
       "      <td>2019-07-01 00:09:30</td>\n",
       "      <td>15th St &amp; Constitution Ave NW</td>\n",
       "      <td>31321.0</td>\n",
       "      <td>8th &amp; D St NW</td>\n",
       "      <td>31270.0</td>\n",
       "      <td>member</td>\n",
       "      <td>W23106</td>\n",
       "      <td>534.0</td>\n",
       "      <td>H2 2019</td>\n",
       "    </tr>\n",
       "    <tr>\n",
       "      <th>4</th>\n",
       "      <td></td>\n",
       "      <td></td>\n",
       "      <td>2019-07-01 00:00:52</td>\n",
       "      <td>2019-07-01 00:09:43</td>\n",
       "      <td>15th &amp; P St NW</td>\n",
       "      <td>31201.0</td>\n",
       "      <td>7th &amp; T St NW</td>\n",
       "      <td>31109.0</td>\n",
       "      <td>casual</td>\n",
       "      <td>W22710</td>\n",
       "      <td>530.0</td>\n",
       "      <td>H2 2019</td>\n",
       "    </tr>\n",
       "  </tbody>\n",
       "</table>\n",
       "</div>"
      ],
      "text/plain": [
       "  ride_id rideable_type           started_at             ended_at  \\\n",
       "0                        2019-07-01 00:00:05  2019-07-01 00:08:53   \n",
       "1                        2019-07-01 00:00:17  2019-07-01 00:09:26   \n",
       "2                        2019-07-01 00:00:23  2019-07-01 00:27:16   \n",
       "3                        2019-07-01 00:00:36  2019-07-01 00:09:30   \n",
       "4                        2019-07-01 00:00:52  2019-07-01 00:09:43   \n",
       "\n",
       "              start_station_name  start_station_id  \\\n",
       "0        Wisconsin Ave & O St NW           31312.0   \n",
       "1  15th St & Constitution Ave NW           31321.0   \n",
       "2                 Kennedy Center           31211.0   \n",
       "3  15th St & Constitution Ave NW           31321.0   \n",
       "4                 15th & P St NW           31201.0   \n",
       "\n",
       "                              end_station_name  end_station_id member_casual  \\\n",
       "0                20th & O St NW / Dupont South         31234.0        member   \n",
       "1                                8th & D St NW         31270.0        member   \n",
       "2  Henry Bacon Dr & Lincoln Memorial Circle NW         31289.0        member   \n",
       "3                                8th & D St NW         31270.0        member   \n",
       "4                                7th & T St NW         31109.0        casual   \n",
       "\n",
       "  Bike number  Duration semi_annual  \n",
       "0      W23055     528.0     H2 2019  \n",
       "1      W20124     548.0     H2 2019  \n",
       "2      W00461    1612.0     H2 2019  \n",
       "3      W23106     534.0     H2 2019  \n",
       "4      W22710     530.0     H2 2019  "
      ]
     },
     "execution_count": 16,
     "metadata": {},
     "output_type": "execute_result"
    }
   ],
   "source": [
    "df19.head()"
   ]
  },
  {
   "cell_type": "code",
   "execution_count": 17,
   "id": "d3f00b9e",
   "metadata": {},
   "outputs": [],
   "source": [
    "# Connect geocoding to dataframe of 2019 \n",
    "df19_1 = pd.merge(df19, df_start_lat, on ='start_station_id', how ='left')\n",
    "\n",
    "df19_2 = pd.merge(df19_1, df_start_lng, on ='start_station_id', how ='left')\n",
    "\n",
    "df19_3 = pd.merge(df19_2, df_end_lat, on ='end_station_id', how ='left')\n",
    "\n",
    "df19_4 = pd.merge(df19_3, df_end_lng, on ='end_station_id', how ='left')\n"
   ]
  },
  {
   "cell_type": "code",
   "execution_count": 18,
   "id": "0441d603",
   "metadata": {},
   "outputs": [],
   "source": [
    "# change the column order  \n",
    "\n",
    "df19_4 = df19_4[['ride_id', 'rideable_type', 'started_at', 'ended_at',\n",
    "       'start_station_name', 'start_station_id', 'end_station_name',\n",
    "       'end_station_id', 'start_lat', 'start_lng', 'end_lat', 'end_lng',\n",
    "       'member_casual', 'Bike number', 'Duration', 'semi_annual']]"
   ]
  },
  {
   "cell_type": "code",
   "execution_count": 19,
   "id": "d05d0504",
   "metadata": {},
   "outputs": [],
   "source": [
    "df = pd.merge(df19_4,df20_21, how='outer')"
   ]
  },
  {
   "cell_type": "code",
   "execution_count": 44,
   "id": "7ea8d395",
   "metadata": {},
   "outputs": [],
   "source": [
    "#export to csv\n",
    "df.to_csv( \"final_clean_data_2.csv\", index=False)"
   ]
  },
  {
   "cell_type": "code",
   "execution_count": 20,
   "id": "6f145d5c",
   "metadata": {},
   "outputs": [],
   "source": [
    "# Remove missing values since we have plenty of data \n",
    "\n",
    "df.dropna(subset=['start_station_name', 'start_station_id',\"end_station_name\",\"end_station_id\",\"start_lat\",\"start_lng\",\"end_lat\",\"end_lng\"], how=\"any\", inplace=True)"
   ]
  },
  {
   "cell_type": "code",
   "execution_count": 21,
   "id": "3a556fad",
   "metadata": {},
   "outputs": [
    {
     "data": {
      "text/plain": [
       "ride_id                    23\n",
       "rideable_type               0\n",
       "started_at                  0\n",
       "ended_at                    0\n",
       "start_station_name          0\n",
       "start_station_id            0\n",
       "end_station_name            0\n",
       "end_station_id              0\n",
       "start_lat                   0\n",
       "start_lng                   0\n",
       "end_lat                     0\n",
       "end_lng                     0\n",
       "member_casual               0\n",
       "Bike number           2618448\n",
       "Duration                    0\n",
       "semi_annual                 0\n",
       "dtype: int64"
      ]
     },
     "execution_count": 21,
     "metadata": {},
     "output_type": "execute_result"
    }
   ],
   "source": [
    "# Missing values\n",
    "df.isnull().sum()"
   ]
  },
  {
   "cell_type": "code",
   "execution_count": 22,
   "id": "1015fe42",
   "metadata": {},
   "outputs": [],
   "source": [
    "# set geo to numeric \n",
    "df[['start_lat', 'start_lng', 'end_lat', 'end_lng']] = df[['start_lat', 'start_lng', 'end_lat', 'end_lng']].applymap(pd.to_numeric)"
   ]
  },
  {
   "cell_type": "code",
   "execution_count": 23,
   "id": "de6d78cd",
   "metadata": {},
   "outputs": [],
   "source": [
    "# Calculate distance in km \n",
    "df['distance'] = 6373* 2 * np.arctan2(np.sqrt(np.sin((df['end_lat']-df['start_lat']) / 2)**2 + np.cos(df['start_lat']) * np.cos(df['end_lat']) * np.sin((df['end_lng']-df['end_lng'])) /2)**2, np.sqrt(1-np.sin((df['end_lat']-df['start_lat']) / 2)**2 + np.cos(df['start_lat']) * np.cos(df['end_lat']) * np.sin((df['end_lng']-df['start_lng'])) /2)**2)"
   ]
  },
  {
   "cell_type": "markdown",
   "id": "96b57548",
   "metadata": {},
   "source": [
    "### EDA"
   ]
  },
  {
   "cell_type": "code",
   "execution_count": 24,
   "id": "726ad412",
   "metadata": {},
   "outputs": [
    {
     "data": {
      "text/html": [
       "<div>\n",
       "<style scoped>\n",
       "    .dataframe tbody tr th:only-of-type {\n",
       "        vertical-align: middle;\n",
       "    }\n",
       "\n",
       "    .dataframe tbody tr th {\n",
       "        vertical-align: top;\n",
       "    }\n",
       "\n",
       "    .dataframe thead th {\n",
       "        text-align: right;\n",
       "    }\n",
       "</style>\n",
       "<table border=\"1\" class=\"dataframe\">\n",
       "  <thead>\n",
       "    <tr style=\"text-align: right;\">\n",
       "      <th></th>\n",
       "      <th>ride_id</th>\n",
       "      <th>rideable_type</th>\n",
       "      <th>started_at</th>\n",
       "      <th>ended_at</th>\n",
       "      <th>start_station_name</th>\n",
       "      <th>start_station_id</th>\n",
       "      <th>end_station_name</th>\n",
       "      <th>end_station_id</th>\n",
       "      <th>start_lat</th>\n",
       "      <th>start_lng</th>\n",
       "      <th>end_lat</th>\n",
       "      <th>end_lng</th>\n",
       "      <th>member_casual</th>\n",
       "      <th>Bike number</th>\n",
       "      <th>Duration</th>\n",
       "      <th>semi_annual</th>\n",
       "      <th>distance</th>\n",
       "    </tr>\n",
       "  </thead>\n",
       "  <tbody>\n",
       "    <tr>\n",
       "      <th>0</th>\n",
       "      <td></td>\n",
       "      <td></td>\n",
       "      <td>2019-07-01 00:00:05</td>\n",
       "      <td>2019-07-01 00:08:53</td>\n",
       "      <td>Wisconsin Ave &amp; O St NW</td>\n",
       "      <td>31312.0</td>\n",
       "      <td>20th &amp; O St NW / Dupont South</td>\n",
       "      <td>31234.0</td>\n",
       "      <td>38.908489</td>\n",
       "      <td>-77.063594</td>\n",
       "      <td>38.908898</td>\n",
       "      <td>-77.044783</td>\n",
       "      <td>member</td>\n",
       "      <td>W23055</td>\n",
       "      <td>528.0</td>\n",
       "      <td>H2 2019</td>\n",
       "      <td>0.000533</td>\n",
       "    </tr>\n",
       "    <tr>\n",
       "      <th>1</th>\n",
       "      <td></td>\n",
       "      <td></td>\n",
       "      <td>2019-07-01 00:00:17</td>\n",
       "      <td>2019-07-01 00:09:26</td>\n",
       "      <td>15th St &amp; Constitution Ave NW</td>\n",
       "      <td>31321.0</td>\n",
       "      <td>8th &amp; D St NW</td>\n",
       "      <td>31270.0</td>\n",
       "      <td>38.892245</td>\n",
       "      <td>-77.033232</td>\n",
       "      <td>38.894851</td>\n",
       "      <td>-77.023237</td>\n",
       "      <td>member</td>\n",
       "      <td>W20124</td>\n",
       "      <td>548.0</td>\n",
       "      <td>H2 2019</td>\n",
       "      <td>0.021626</td>\n",
       "    </tr>\n",
       "  </tbody>\n",
       "</table>\n",
       "</div>"
      ],
      "text/plain": [
       "  ride_id rideable_type           started_at             ended_at  \\\n",
       "0                        2019-07-01 00:00:05  2019-07-01 00:08:53   \n",
       "1                        2019-07-01 00:00:17  2019-07-01 00:09:26   \n",
       "\n",
       "              start_station_name  start_station_id  \\\n",
       "0        Wisconsin Ave & O St NW           31312.0   \n",
       "1  15th St & Constitution Ave NW           31321.0   \n",
       "\n",
       "                end_station_name  end_station_id  start_lat  start_lng  \\\n",
       "0  20th & O St NW / Dupont South         31234.0  38.908489 -77.063594   \n",
       "1                  8th & D St NW         31270.0  38.892245 -77.033232   \n",
       "\n",
       "     end_lat    end_lng member_casual Bike number  Duration semi_annual  \\\n",
       "0  38.908898 -77.044783        member      W23055     528.0     H2 2019   \n",
       "1  38.894851 -77.023237        member      W20124     548.0     H2 2019   \n",
       "\n",
       "   distance  \n",
       "0  0.000533  \n",
       "1  0.021626  "
      ]
     },
     "execution_count": 24,
     "metadata": {},
     "output_type": "execute_result"
    }
   ],
   "source": [
    "df.head(2)"
   ]
  },
  {
   "cell_type": "code",
   "execution_count": 25,
   "id": "bd704d88",
   "metadata": {},
   "outputs": [
    {
     "data": {
      "text/plain": [
       "(4221953, 17)"
      ]
     },
     "execution_count": 25,
     "metadata": {},
     "output_type": "execute_result"
    }
   ],
   "source": [
    "df.shape"
   ]
  },
  {
   "cell_type": "code",
   "execution_count": 26,
   "id": "d91da736",
   "metadata": {},
   "outputs": [
    {
     "data": {
      "text/plain": [
       "ride_id                object\n",
       "rideable_type          object\n",
       "started_at             object\n",
       "ended_at               object\n",
       "start_station_name     object\n",
       "start_station_id      float64\n",
       "end_station_name       object\n",
       "end_station_id        float64\n",
       "start_lat             float64\n",
       "start_lng             float64\n",
       "end_lat               float64\n",
       "end_lng               float64\n",
       "member_casual          object\n",
       "Bike number            object\n",
       "Duration              float64\n",
       "semi_annual            object\n",
       "distance              float64\n",
       "dtype: object"
      ]
     },
     "execution_count": 26,
     "metadata": {},
     "output_type": "execute_result"
    }
   ],
   "source": [
    "df.dtypes"
   ]
  },
  {
   "cell_type": "code",
   "execution_count": 27,
   "id": "329695bf",
   "metadata": {},
   "outputs": [
    {
     "data": {
      "text/plain": [
       "ride_id                    23\n",
       "rideable_type               0\n",
       "started_at                  0\n",
       "ended_at                    0\n",
       "start_station_name          0\n",
       "start_station_id            0\n",
       "end_station_name            0\n",
       "end_station_id              0\n",
       "start_lat                   0\n",
       "start_lng                   0\n",
       "end_lat                     0\n",
       "end_lng                     0\n",
       "member_casual               0\n",
       "Bike number           2618448\n",
       "Duration                    0\n",
       "semi_annual                 0\n",
       "distance                    0\n",
       "dtype: int64"
      ]
     },
     "execution_count": 27,
     "metadata": {},
     "output_type": "execute_result"
    }
   ],
   "source": [
    "# Missing values\n",
    "df.isnull().sum()"
   ]
  },
  {
   "cell_type": "code",
   "execution_count": 28,
   "id": "cd3f8be0",
   "metadata": {},
   "outputs": [
    {
     "data": {
      "text/html": [
       "<div>\n",
       "<style scoped>\n",
       "    .dataframe tbody tr th:only-of-type {\n",
       "        vertical-align: middle;\n",
       "    }\n",
       "\n",
       "    .dataframe tbody tr th {\n",
       "        vertical-align: top;\n",
       "    }\n",
       "\n",
       "    .dataframe thead th {\n",
       "        text-align: right;\n",
       "    }\n",
       "</style>\n",
       "<table border=\"1\" class=\"dataframe\">\n",
       "  <thead>\n",
       "    <tr style=\"text-align: right;\">\n",
       "      <th></th>\n",
       "      <th>start_station_id</th>\n",
       "      <th>end_station_id</th>\n",
       "      <th>start_lat</th>\n",
       "      <th>start_lng</th>\n",
       "      <th>end_lat</th>\n",
       "      <th>end_lng</th>\n",
       "      <th>Duration</th>\n",
       "      <th>distance</th>\n",
       "    </tr>\n",
       "  </thead>\n",
       "  <tbody>\n",
       "    <tr>\n",
       "      <th>count</th>\n",
       "      <td>4.221953e+06</td>\n",
       "      <td>4.221953e+06</td>\n",
       "      <td>4.221953e+06</td>\n",
       "      <td>4.221953e+06</td>\n",
       "      <td>4.221953e+06</td>\n",
       "      <td>4.221953e+06</td>\n",
       "      <td>4.221953e+06</td>\n",
       "      <td>4.221953e+06</td>\n",
       "    </tr>\n",
       "    <tr>\n",
       "      <th>mean</th>\n",
       "      <td>3.135496e+04</td>\n",
       "      <td>3.135591e+04</td>\n",
       "      <td>3.890296e+01</td>\n",
       "      <td>-7.703278e+01</td>\n",
       "      <td>3.890167e+01</td>\n",
       "      <td>-7.703237e+01</td>\n",
       "      <td>1.521906e+03</td>\n",
       "      <td>7.318051e-01</td>\n",
       "    </tr>\n",
       "    <tr>\n",
       "      <th>std</th>\n",
       "      <td>2.500011e+02</td>\n",
       "      <td>2.489741e+02</td>\n",
       "      <td>2.675123e-02</td>\n",
       "      <td>3.276797e-02</td>\n",
       "      <td>3.752301e-02</td>\n",
       "      <td>6.213192e-02</td>\n",
       "      <td>4.339838e+04</td>\n",
       "      <td>3.682670e+00</td>\n",
       "    </tr>\n",
       "    <tr>\n",
       "      <th>min</th>\n",
       "      <td>3.100000e+04</td>\n",
       "      <td>3.100000e+04</td>\n",
       "      <td>3.878255e+01</td>\n",
       "      <td>-7.736844e+01</td>\n",
       "      <td>0.000000e+00</td>\n",
       "      <td>-7.736845e+01</td>\n",
       "      <td>1.000000e+00</td>\n",
       "      <td>0.000000e+00</td>\n",
       "    </tr>\n",
       "    <tr>\n",
       "      <th>25%</th>\n",
       "      <td>3.120400e+04</td>\n",
       "      <td>3.120900e+04</td>\n",
       "      <td>3.889054e+01</td>\n",
       "      <td>-7.704500e+01</td>\n",
       "      <td>3.889054e+01</td>\n",
       "      <td>-7.704500e+01</td>\n",
       "      <td>4.170000e+02</td>\n",
       "      <td>2.584649e-02</td>\n",
       "    </tr>\n",
       "    <tr>\n",
       "      <th>50%</th>\n",
       "      <td>3.127100e+04</td>\n",
       "      <td>3.127000e+04</td>\n",
       "      <td>3.890241e+01</td>\n",
       "      <td>-7.703222e+01</td>\n",
       "      <td>3.890206e+01</td>\n",
       "      <td>-7.703210e+01</td>\n",
       "      <td>7.210000e+02</td>\n",
       "      <td>1.725133e-01</td>\n",
       "    </tr>\n",
       "    <tr>\n",
       "      <th>75%</th>\n",
       "      <td>3.160300e+04</td>\n",
       "      <td>3.160300e+04</td>\n",
       "      <td>3.891355e+01</td>\n",
       "      <td>-7.701536e+01</td>\n",
       "      <td>3.891210e+01</td>\n",
       "      <td>-7.701529e+01</td>\n",
       "      <td>1.239000e+03</td>\n",
       "      <td>6.369217e-01</td>\n",
       "    </tr>\n",
       "    <tr>\n",
       "      <th>max</th>\n",
       "      <td>3.290100e+04</td>\n",
       "      <td>3.290200e+04</td>\n",
       "      <td>3.912583e+01</td>\n",
       "      <td>-7.682554e+01</td>\n",
       "      <td>3.912583e+01</td>\n",
       "      <td>0.000000e+00</td>\n",
       "      <td>1.442492e+07</td>\n",
       "      <td>4.446574e+03</td>\n",
       "    </tr>\n",
       "  </tbody>\n",
       "</table>\n",
       "</div>"
      ],
      "text/plain": [
       "       start_station_id  end_station_id     start_lat     start_lng  \\\n",
       "count      4.221953e+06    4.221953e+06  4.221953e+06  4.221953e+06   \n",
       "mean       3.135496e+04    3.135591e+04  3.890296e+01 -7.703278e+01   \n",
       "std        2.500011e+02    2.489741e+02  2.675123e-02  3.276797e-02   \n",
       "min        3.100000e+04    3.100000e+04  3.878255e+01 -7.736844e+01   \n",
       "25%        3.120400e+04    3.120900e+04  3.889054e+01 -7.704500e+01   \n",
       "50%        3.127100e+04    3.127000e+04  3.890241e+01 -7.703222e+01   \n",
       "75%        3.160300e+04    3.160300e+04  3.891355e+01 -7.701536e+01   \n",
       "max        3.290100e+04    3.290200e+04  3.912583e+01 -7.682554e+01   \n",
       "\n",
       "            end_lat       end_lng      Duration      distance  \n",
       "count  4.221953e+06  4.221953e+06  4.221953e+06  4.221953e+06  \n",
       "mean   3.890167e+01 -7.703237e+01  1.521906e+03  7.318051e-01  \n",
       "std    3.752301e-02  6.213192e-02  4.339838e+04  3.682670e+00  \n",
       "min    0.000000e+00 -7.736845e+01  1.000000e+00  0.000000e+00  \n",
       "25%    3.889054e+01 -7.704500e+01  4.170000e+02  2.584649e-02  \n",
       "50%    3.890206e+01 -7.703210e+01  7.210000e+02  1.725133e-01  \n",
       "75%    3.891210e+01 -7.701529e+01  1.239000e+03  6.369217e-01  \n",
       "max    3.912583e+01  0.000000e+00  1.442492e+07  4.446574e+03  "
      ]
     },
     "execution_count": 28,
     "metadata": {},
     "output_type": "execute_result"
    }
   ],
   "source": [
    "df.describe()"
   ]
  },
  {
   "cell_type": "code",
   "execution_count": 56,
   "id": "28308000",
   "metadata": {},
   "outputs": [
    {
     "data": {
      "image/png": "[encoded data removed]",
      "text/plain": [
       "<Figure size 720x720 with 9 Axes>"
      ]
     },
     "metadata": {
      "needs_background": "light"
     },
     "output_type": "display_data"
    }
   ],
   "source": [
    "plt.rcParams[\"figure.figsize\"] = (10,10)\n",
    "df.hist()\n",
    "plt.show()"
   ]
  },
  {
   "cell_type": "markdown",
   "id": "dda90806",
   "metadata": {},
   "source": [
    "### Some useful visualizations "
   ]
  },
  {
   "cell_type": "code",
   "execution_count": 58,
   "id": "bb3e2636",
   "metadata": {},
   "outputs": [
    {
     "data": {
      "text/plain": [
       "Text(0, 0.5, 'distance')"
      ]
     },
     "execution_count": 58,
     "metadata": {},
     "output_type": "execute_result"
    },
    {
     "data": {
      "image/png": "[encoded data removed]",
      "text/plain": [
       "<Figure size 648x648 with 1 Axes>"
      ]
     },
     "metadata": {
      "needs_background": "light"
     },
     "output_type": "display_data"
    }
   ],
   "source": [
    "# Initialize layout\n",
    "fig, ax = plt.subplots(figsize = (9, 9))\n",
    "\n",
    "# Set the data \n",
    "x = df[(df.member_casual=='casual')]['Duration']\n",
    "\n",
    "y = df[(df.member_casual=='casual')]['distance']\n",
    "\n",
    "# Add scatterplot\n",
    "ax.scatter(x, y, s=60, alpha=0.7, edgecolors=\"k\")\n",
    "\n",
    "# Add labels \n",
    "plt.title(\"Casual\")\n",
    "plt.xlabel(\"Duration\")\n",
    "plt.ylabel(\"distance\")\n"
   ]
  },
  {
   "cell_type": "code",
   "execution_count": 59,
   "id": "0b263369",
   "metadata": {},
   "outputs": [
    {
     "data": {
      "text/plain": [
       "Text(0, 0.5, 'distance')"
      ]
     },
     "execution_count": 59,
     "metadata": {},
     "output_type": "execute_result"
    },
    {
     "data": {
      "image/png": "[encoded data removed]",
      "text/plain": [
       "<Figure size 648x648 with 1 Axes>"
      ]
     },
     "metadata": {
      "needs_background": "light"
     },
     "output_type": "display_data"
    }
   ],
   "source": [
    "# Initialize layout\n",
    "fig, ax = plt.subplots(figsize = (9, 9))\n",
    "\n",
    "# Set the data \n",
    "x = df[(df.member_casual=='member')]['Duration']\n",
    "\n",
    "y = df[(df.member_casual=='member')]['distance']\n",
    "\n",
    "# Add scatterplot\n",
    "ax.scatter(x, y, s=60, alpha=0.7, edgecolors=\"k\")\n",
    "\n",
    "# Add labels \n",
    "plt.title(\"Member\")\n",
    "plt.xlabel(\"Duration\")\n",
    "plt.ylabel(\"distance\")"
   ]
  },
  {
   "cell_type": "code",
   "execution_count": 60,
   "id": "1b959d92",
   "metadata": {},
   "outputs": [],
   "source": [
    "#export to csv\n",
    "df.to_csv( \"data_vf.csv\", index=False)"
   ]
  }
 ],
 "metadata": {
  "kernelspec": {
   "display_name": "Python 3",
   "language": "python",
   "name": "python3"
  },
  "language_info": {
   "codemirror_mode": {
    "name": "ipython",
    "version": 3
   },
   "file_extension": ".py",
   "mimetype": "text/x-python",
   "name": "python",
   "nbconvert_exporter": "python",
   "pygments_lexer": "ipython3",
   "version": "3.7.10"
  }
 },
 "nbformat": 4,
 "nbformat_minor": 5
}
