{
 "cells": [
  {
   "cell_type": "markdown",
   "id": "dc46faee",
   "metadata": {},
   "source": [
    "# Data Consolidattion "
   ]
  },
  {
   "cell_type": "code",
   "execution_count": 1,
   "id": "bcffce0a",
   "metadata": {},
   "outputs": [],
   "source": [
    "import os\n",
    "import glob\n",
    "import numpy as np\n",
    "import pandas as pd\n",
    "import matplotlib.pyplot as plt \n",
    "#!pip install geopandas\n",
    "#!pip install geopy\n",
    "from geopy.geocoders import Nominatim\n",
    "import re"
   ]
  },
  {
   "cell_type": "code",
   "execution_count": 2,
   "id": "8da77b0a",
   "metadata": {},
   "outputs": [],
   "source": [
    "extension = 'csv'\n",
    "all_filenames = [i for i in glob.glob('*.{}'.format(extension))]"
   ]
  },
  {
   "cell_type": "code",
   "execution_count": 3,
   "id": "2b0436c9",
   "metadata": {},
   "outputs": [],
   "source": [
    "filenames_2019 = all_filenames[:6]\n",
    "\n",
    "filenames_2020_2021 = all_filenames[6:]"
   ]
  },
  {
   "cell_type": "code",
   "execution_count": 4,
   "id": "6914cdd4",
   "metadata": {},
   "outputs": [],
   "source": [
    "#combine all files in the list\n",
    "df_19 = pd.concat([pd.read_csv(f) for f in filenames_2019 ])\n",
    "\n",
    "df_20_21 = pd.concat([pd.read_csv(f) for f in filenames_2020_2021 ])"
   ]
  },
  {
   "cell_type": "code",
   "execution_count": 5,
   "id": "903c8fd6",
   "metadata": {},
   "outputs": [],
   "source": [
    "# Create 4 empty columns in 2019 data\n",
    "\n",
    "df_19['start_lat'] = \" \"\n",
    "df_19['start_lng'] = \" \"\n",
    "df_19['end_lat'] = \" \"\n",
    "df_19['end_lng'] = \" \"\n",
    "\n",
    "df_19['ride_id'] = \" \"\n",
    "df_19['rideable_type'] = \" \"\n"
   ]
  },
  {
   "cell_type": "code",
   "execution_count": 6,
   "id": "91f3edfd",
   "metadata": {},
   "outputs": [],
   "source": [
    "# Create functions for geocoding \n",
    "\n",
    "def extract_lat(address):\n",
    "    try:\n",
    "        location = geolocator.geocode(address)\n",
    "        return location.latitude\n",
    "    except:\n",
    "        return ''\n",
    "\n",
    "    \n",
    "def extract_long(address):\n",
    "    try:\n",
    "        location = geolocator.geocode(address)\n",
    "        return location.longitude\n",
    "    except:\n",
    "        return ''"
   ]
  },
  {
   "cell_type": "code",
   "execution_count": 7,
   "id": "c863847f",
   "metadata": {},
   "outputs": [],
   "source": [
    "from geopy.geocoders import Nominatim\n",
    "geolocator = Nominatim(user_agent=\"example app\")"
   ]
  },
  {
   "cell_type": "markdown",
   "id": "75b429c2",
   "metadata": {},
   "source": [
    "### Make the same columns for all datasets "
   ]
  },
  {
   "cell_type": "code",
   "execution_count": 24,
   "id": "88edd8bf",
   "metadata": {},
   "outputs": [],
   "source": [
    "df_19 = df_19.loc[:, [\"ride_id\",\"rideable_type\",\"Start date\",\"End date\", \"Start station\", \"Start station number\"\n",
    "           ,\"End station\", \"End station number\",'start_lat', 'start_lng', 'end_lat', 'end_lng','Member type','Bike number','Duration']]\n",
    "\n",
    "\n",
    "df_19.columns = ['ride_id', 'rideable_type', 'started_at', 'ended_at','start_station_name', 'start_station_id', \n",
    "                 'end_station_name','end_station_id', 'start_lat', 'start_lng', 'end_lat', 'end_lng','member_casual', 'Bike number', 'Duration']\n"
   ]
  },
  {
   "cell_type": "code",
   "execution_count": 26,
   "id": "ff1cdc44",
   "metadata": {},
   "outputs": [],
   "source": [
    "# Add columns in 2020_2021 data \n",
    "\n",
    "df_20_21['Bike number']= \"\"\n",
    "\n",
    "#convert columns to datetime\n",
    "df_20_21[['started_at','ended_at']] = df_20_21[['started_at','ended_at']].apply(pd.to_datetime)\n",
    "\n",
    "#calculate difference between dates\n",
    "df_20_21['Duration'] = (df_20_21['ended_at'] - df_20_21['started_at']) / np.timedelta64(1, 's')\n"
   ]
  },
  {
   "cell_type": "code",
   "execution_count": 41,
   "id": "481d11ab",
   "metadata": {},
   "outputs": [],
   "source": [
    "# Change the wording in order to be aligned\n",
    "\n",
    "df_19[\"member_casual\"] = df_19[\"member_casual\"].map(lambda x: \"member\" if x==\"Member\" else \"casual\")"
   ]
  },
  {
   "cell_type": "markdown",
   "id": "139322b1",
   "metadata": {},
   "source": [
    "### Consolidate all data "
   ]
  },
  {
   "cell_type": "code",
   "execution_count": 43,
   "id": "a06512ee",
   "metadata": {},
   "outputs": [],
   "source": [
    "df = pd.concat([df_19, df_20_21])"
   ]
  },
  {
   "cell_type": "code",
   "execution_count": 69,
   "id": "903df3ca",
   "metadata": {},
   "outputs": [],
   "source": [
    "# Add semi annual column \n",
    "\n",
    "df[['started_at','ended_at']] = df[['started_at','ended_at']].apply(pd.to_datetime)\n",
    "\n",
    "df['semi_annual'] = df['started_at'].map(lambda x:\"H2 2019\" if x.year==2019 else (\"H2 2020\" if x.year==2020 else \"H2 2021\"))\n"
   ]
  },
  {
   "cell_type": "code",
   "execution_count": 71,
   "id": "87c9d6a9",
   "metadata": {},
   "outputs": [],
   "source": [
    "#export to csv\n",
    "df.to_csv( \"data.csv\", index=False)"
   ]
  },
  {
   "cell_type": "markdown",
   "id": "a122c298",
   "metadata": {},
   "source": [
    "### Import data "
   ]
  },
  {
   "cell_type": "code",
   "execution_count": 2,
   "id": "36d3cf37",
   "metadata": {},
   "outputs": [
    {
     "name": "stderr",
     "output_type": "stream",
     "text": [
      "C:\\Users\\Tsaro\\anaconda3\\lib\\site-packages\\IPython\\core\\interactiveshell.py:3166: DtypeWarning: Columns (8,9,10,11,13) have mixed types.Specify dtype option on import or set low_memory=False.\n",
      "  interactivity=interactivity, compiler=compiler, result=result)\n"
     ]
    }
   ],
   "source": [
    "df = pd.read_csv(\"data.csv\")"
   ]
  },
  {
   "cell_type": "markdown",
   "id": "24b648d4",
   "metadata": {},
   "source": [
    "### EDA "
   ]
  },
  {
   "cell_type": "code",
   "execution_count": 74,
   "id": "4ee8d8e3",
   "metadata": {},
   "outputs": [
    {
     "data": {
      "text/plain": [
       "ride_id                object\n",
       "rideable_type          object\n",
       "started_at             object\n",
       "ended_at               object\n",
       "start_station_name     object\n",
       "start_station_id      float64\n",
       "end_station_name       object\n",
       "end_station_id        float64\n",
       "start_lat              object\n",
       "start_lng              object\n",
       "end_lat                object\n",
       "end_lng                object\n",
       "member_casual          object\n",
       "Bike number            object\n",
       "Duration              float64\n",
       "semi_annual            object\n",
       "dtype: object"
      ]
     },
     "execution_count": 74,
     "metadata": {},
     "output_type": "execute_result"
    }
   ],
   "source": [
    "df.dtypes"
   ]
  },
  {
   "cell_type": "code",
   "execution_count": 75,
   "id": "209f4493",
   "metadata": {},
   "outputs": [
    {
     "data": {
      "text/plain": [
       "(4695622, 16)"
      ]
     },
     "execution_count": 75,
     "metadata": {},
     "output_type": "execute_result"
    }
   ],
   "source": [
    "df.shape"
   ]
  },
  {
   "cell_type": "code",
   "execution_count": 76,
   "id": "8e1ad309",
   "metadata": {},
   "outputs": [
    {
     "data": {
      "text/html": [
       "<div>\n",
       "<style scoped>\n",
       "    .dataframe tbody tr th:only-of-type {\n",
       "        vertical-align: middle;\n",
       "    }\n",
       "\n",
       "    .dataframe tbody tr th {\n",
       "        vertical-align: top;\n",
       "    }\n",
       "\n",
       "    .dataframe thead th {\n",
       "        text-align: right;\n",
       "    }\n",
       "</style>\n",
       "<table border=\"1\" class=\"dataframe\">\n",
       "  <thead>\n",
       "    <tr style=\"text-align: right;\">\n",
       "      <th></th>\n",
       "      <th>start_station_id</th>\n",
       "      <th>end_station_id</th>\n",
       "      <th>Duration</th>\n",
       "    </tr>\n",
       "  </thead>\n",
       "  <tbody>\n",
       "    <tr>\n",
       "      <th>count</th>\n",
       "      <td>4.516959e+06</td>\n",
       "      <td>4.493775e+06</td>\n",
       "      <td>4.695622e+06</td>\n",
       "    </tr>\n",
       "    <tr>\n",
       "      <th>mean</th>\n",
       "      <td>3.135274e+04</td>\n",
       "      <td>3.135348e+04</td>\n",
       "      <td>1.374490e+03</td>\n",
       "    </tr>\n",
       "    <tr>\n",
       "      <th>std</th>\n",
       "      <td>4.148156e+02</td>\n",
       "      <td>4.117560e+02</td>\n",
       "      <td>4.522095e+04</td>\n",
       "    </tr>\n",
       "    <tr>\n",
       "      <th>min</th>\n",
       "      <td>0.000000e+00</td>\n",
       "      <td>0.000000e+00</td>\n",
       "      <td>-1.743833e+06</td>\n",
       "    </tr>\n",
       "    <tr>\n",
       "      <th>25%</th>\n",
       "      <td>3.120500e+04</td>\n",
       "      <td>3.121200e+04</td>\n",
       "      <td>4.210000e+02</td>\n",
       "    </tr>\n",
       "    <tr>\n",
       "      <th>50%</th>\n",
       "      <td>3.127100e+04</td>\n",
       "      <td>3.126900e+04</td>\n",
       "      <td>7.340000e+02</td>\n",
       "    </tr>\n",
       "    <tr>\n",
       "      <th>75%</th>\n",
       "      <td>3.160300e+04</td>\n",
       "      <td>3.160300e+04</td>\n",
       "      <td>1.266000e+03</td>\n",
       "    </tr>\n",
       "    <tr>\n",
       "      <th>max</th>\n",
       "      <td>3.290200e+04</td>\n",
       "      <td>3.290200e+04</td>\n",
       "      <td>1.442492e+07</td>\n",
       "    </tr>\n",
       "  </tbody>\n",
       "</table>\n",
       "</div>"
      ],
      "text/plain": [
       "       start_station_id  end_station_id      Duration\n",
       "count      4.516959e+06    4.493775e+06  4.695622e+06\n",
       "mean       3.135274e+04    3.135348e+04  1.374490e+03\n",
       "std        4.148156e+02    4.117560e+02  4.522095e+04\n",
       "min        0.000000e+00    0.000000e+00 -1.743833e+06\n",
       "25%        3.120500e+04    3.121200e+04  4.210000e+02\n",
       "50%        3.127100e+04    3.126900e+04  7.340000e+02\n",
       "75%        3.160300e+04    3.160300e+04  1.266000e+03\n",
       "max        3.290200e+04    3.290200e+04  1.442492e+07"
      ]
     },
     "execution_count": 76,
     "metadata": {},
     "output_type": "execute_result"
    }
   ],
   "source": [
    "df.describe()"
   ]
  },
  {
   "cell_type": "code",
   "execution_count": 88,
   "id": "60eb2e6b",
   "metadata": {},
   "outputs": [
    {
     "data": {
      "text/plain": [
       "ride_id                     6\n",
       "rideable_type               0\n",
       "started_at                  0\n",
       "ended_at                    0\n",
       "start_station_name     178663\n",
       "start_station_id       178663\n",
       "end_station_name       201847\n",
       "end_station_id         201847\n",
       "start_lat                   8\n",
       "start_lng                   8\n",
       "end_lat                  7553\n",
       "end_lng                  7553\n",
       "member_casual               0\n",
       "Bike number           2895766\n",
       "Duration                    0\n",
       "semi_annual                 0\n",
       "dtype: int64"
      ]
     },
     "execution_count": 88,
     "metadata": {},
     "output_type": "execute_result"
    }
   ],
   "source": [
    "# Missing values\n",
    "df.isnull().sum()"
   ]
  },
  {
   "cell_type": "code",
   "execution_count": 3,
   "id": "3fbe2c6b",
   "metadata": {},
   "outputs": [
    {
     "data": {
      "text/plain": [
       "683"
      ]
     },
     "execution_count": 3,
     "metadata": {},
     "output_type": "execute_result"
    }
   ],
   "source": [
    "np.count_nonzero(df.start_station_id.unique())"
   ]
  },
  {
   "cell_type": "code",
   "execution_count": 4,
   "id": "d8b03a00",
   "metadata": {},
   "outputs": [
    {
     "data": {
      "text/plain": [
       "683"
      ]
     },
     "execution_count": 4,
     "metadata": {},
     "output_type": "execute_result"
    }
   ],
   "source": [
    "np.count_nonzero(df.end_station_id.unique())"
   ]
  },
  {
   "cell_type": "code",
   "execution_count": 5,
   "id": "34ce2dbe",
   "metadata": {},
   "outputs": [
    {
     "data": {
      "text/plain": [
       "713"
      ]
     },
     "execution_count": 5,
     "metadata": {},
     "output_type": "execute_result"
    }
   ],
   "source": [
    "np.count_nonzero(df.start_station_name.dropna().unique())"
   ]
  },
  {
   "cell_type": "code",
   "execution_count": 6,
   "id": "b05c9b13",
   "metadata": {},
   "outputs": [
    {
     "data": {
      "text/plain": [
       "713"
      ]
     },
     "execution_count": 6,
     "metadata": {},
     "output_type": "execute_result"
    }
   ],
   "source": [
    "np.count_nonzero(df.end_station_name.dropna().unique())"
   ]
  },
  {
   "cell_type": "code",
   "execution_count": 7,
   "id": "a52e0349",
   "metadata": {},
   "outputs": [],
   "source": [
    "start = df.start_station_name.dropna().unique()\n",
    "end = df.end_station_name.dropna().unique()"
   ]
  },
  {
   "cell_type": "code",
   "execution_count": 8,
   "id": "fd98520b",
   "metadata": {},
   "outputs": [],
   "source": [
    "from opencage.geocoder import OpenCageGeocode\n",
    "\n",
    "def geo_lat(x):\n",
    "    key = \"18f60230b17a4b76a633dd7eb0f9ee98\"\n",
    "    geocoder = OpenCageGeocode(key)\n",
    "    address = x\n",
    "    result = geocoder.geocode(address, no_annotations=\"1\")  \n",
    "    \n",
    "    return result[0]['geometry']['lat']\n",
    "\n",
    "def geo_lng(x):\n",
    "    key = \"18f60230b17a4b76a633dd7eb0f9ee98\"\n",
    "    geocoder = OpenCageGeocode(key)\n",
    "    address = x\n",
    "    result = geocoder.geocode(address, no_annotations=\"1\")  \n",
    "    \n",
    "    return result[0]['geometry']['lng']"
   ]
  },
  {
   "cell_type": "code",
   "execution_count": 9,
   "id": "c8f3fe6f",
   "metadata": {},
   "outputs": [],
   "source": [
    "addresses = start\n",
    "key = \"18f60230b17a4b76a633dd7eb0f9ee98\"\n",
    "geocoder = OpenCageGeocode(key)\n",
    "latitudes_start = []\n",
    "longitudes_start = []\n",
    "for address in addresses: \n",
    "    result = geocoder.geocode(address, no_annotations=\"1\")  \n",
    "    \n",
    "    if result and len(result):  \n",
    "        longitude = result[0][\"geometry\"][\"lng\"]  \n",
    "        latitude = result[0][\"geometry\"][\"lat\"] \n",
    "    else:  \n",
    "        longitude = \"N/A\"  \n",
    "        latitude = \"N/A\"  \n",
    "    \n",
    "    latitudes_start.append(latitude) \n",
    "    longitudes_start.append(longitude)"
   ]
  },
  {
   "cell_type": "code",
   "execution_count": 10,
   "id": "9725f2af",
   "metadata": {},
   "outputs": [],
   "source": [
    "addresses = end\n",
    "key = \"18f60230b17a4b76a633dd7eb0f9ee98\"\n",
    "geocoder = OpenCageGeocode(key)\n",
    "latitudes_end = []\n",
    "longitudes_end = []\n",
    "for address in addresses: \n",
    "    result = geocoder.geocode(address, no_annotations=\"1\")  \n",
    "    \n",
    "    if result and len(result):  \n",
    "        longitude = result[0][\"geometry\"][\"lng\"]  \n",
    "        latitude = result[0][\"geometry\"][\"lat\"] \n",
    "    else:  \n",
    "        longitude = \"N/A\"  \n",
    "        latitude = \"N/A\"  \n",
    "    \n",
    "    latitudes_end.append(latitude) \n",
    "    longitudes_end.append(longitude)"
   ]
  },
  {
   "cell_type": "code",
   "execution_count": 11,
   "id": "bd06d4d2",
   "metadata": {},
   "outputs": [],
   "source": [
    "df_geo = pd.DataFrame()"
   ]
  },
  {
   "cell_type": "code",
   "execution_count": 12,
   "id": "11d184c3",
   "metadata": {},
   "outputs": [],
   "source": [
    "df_geo['start'] = start"
   ]
  },
  {
   "cell_type": "code",
   "execution_count": 13,
   "id": "ad03fe0a",
   "metadata": {},
   "outputs": [],
   "source": [
    "df_geo['end'] = end"
   ]
  },
  {
   "cell_type": "code",
   "execution_count": 15,
   "id": "3ab1bb6f",
   "metadata": {},
   "outputs": [],
   "source": [
    "df_geo['start_lat'] = latitudes_start\n",
    "\n",
    "df_geo['start_long'] = longitudes_start\n",
    "\n",
    "df_geo['end_lat'] = latitudes_end\n",
    "\n",
    "df_geo['end_long'] = longitudes_end\n"
   ]
  },
  {
   "cell_type": "code",
   "execution_count": 21,
   "id": "cab919a9",
   "metadata": {},
   "outputs": [],
   "source": [
    "#export to csv\n",
    "df_geo.to_csv( \"geo.csv\", index=False)"
   ]
  },
  {
   "cell_type": "code",
   "execution_count": 26,
   "id": "4e6e600e",
   "metadata": {},
   "outputs": [],
   "source": [
    "# change column names \n",
    "df_geo.columns = ['start_station_name',\"end_station_name\", 'start_lat', 'start_lng','end_lat','end_lng']\n"
   ]
  },
  {
   "cell_type": "code",
   "execution_count": 42,
   "id": "b7d584b3",
   "metadata": {},
   "outputs": [],
   "source": [
    "df_geo_start = df_geo[['start_station_name', 'start_lat', 'start_lng']]\n",
    "\n",
    "df_geo_end = df_geo[['end_station_name', 'end_lat', 'end_lng']]"
   ]
  },
  {
   "cell_type": "code",
   "execution_count": 34,
   "id": "f90ffc97",
   "metadata": {},
   "outputs": [],
   "source": [
    "df_19 = df[df.semi_annual==\"H2 2019\"]"
   ]
  },
  {
   "cell_type": "code",
   "execution_count": 47,
   "id": "20c56c5c",
   "metadata": {},
   "outputs": [],
   "source": [
    "# Connect geocoding to dataframe of 2019 \n",
    "n_df_19 = pd.merge(df_19, df_geo_start, on ='start_station_name', how ='left')\n",
    "\n",
    "df_19_f = pd.merge(n_df_19, df_geo_end, on ='end_station_name', how ='left')"
   ]
  },
  {
   "cell_type": "code",
   "execution_count": 49,
   "id": "b4fcb2a9",
   "metadata": {},
   "outputs": [],
   "source": [
    "df_19_f.drop(['start_lat_x', \"start_lng_x\", 'end_lat_x','end_lng_x'],axis=1, inplace=True)"
   ]
  },
  {
   "cell_type": "code",
   "execution_count": 53,
   "id": "f0d5438b",
   "metadata": {},
   "outputs": [],
   "source": [
    "# change column names \n",
    "df_19_f.columns = ['ride_id', 'rideable_type', 'started_at', 'ended_at',\n",
    "       'start_station_name', 'start_station_id', 'end_station_name',\n",
    "       'end_station_id', 'member_casual', 'Bike number', 'Duration',\n",
    "       'semi_annual', 'start_lat', 'start_lng', 'end_lat', 'end_lng']\n",
    "\n",
    "\n",
    "# change the column order  \n",
    "\n",
    "df_19_f = df_19_f[['ride_id', 'rideable_type', 'started_at', 'ended_at',\n",
    "       'start_station_name', 'start_station_id', 'end_station_name',\n",
    "       'end_station_id', 'start_lat', 'start_lng', 'end_lat', 'end_lng',\n",
    "       'member_casual', 'Bike number', 'Duration', 'semi_annual']]\n"
   ]
  },
  {
   "cell_type": "code",
   "execution_count": null,
   "id": "399f43cf",
   "metadata": {},
   "outputs": [],
   "source": [
    "df_rest = df[df.semi_annual!=\"H2 2019\"]\n",
    "\n",
    "df_rest.reset_index(drop=True, inplace=True)\n",
    "\n",
    "df_vf = pd.merge(df_19_f,df_rest, how='outer')\n"
   ]
  },
  {
   "cell_type": "code",
   "execution_count": 87,
   "id": "78dd3a7b",
   "metadata": {},
   "outputs": [],
   "source": [
    "#export to csv\n",
    "df_vf.to_csv( \"final_data.csv\", index=False)\n"
   ]
  },
  {
   "cell_type": "code",
   "execution_count": null,
   "id": "f4fef0d4",
   "metadata": {},
   "outputs": [],
   "source": []
  }
 ],
 "metadata": {
  "kernelspec": {
   "display_name": "Python 3",
   "language": "python",
   "name": "python3"
  },
  "language_info": {
   "codemirror_mode": {
    "name": "ipython",
    "version": 3
   },
   "file_extension": ".py",
   "mimetype": "text/x-python",
   "name": "python",
   "nbconvert_exporter": "python",
   "pygments_lexer": "ipython3",
   "version": "3.7.10"
  }
 },
 "nbformat": 4,
 "nbformat_minor": 5
}
