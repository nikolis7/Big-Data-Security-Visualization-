{
 "cells": [
  {
   "cell_type": "markdown",
   "id": "dc46faee",
   "metadata": {},
   "source": [
    "# Data Consolidattion "
   ]
  },
  {
   "cell_type": "code",
   "execution_count": 25,
   "id": "bcffce0a",
   "metadata": {},
   "outputs": [],
   "source": [
    "import os\n",
    "import glob\n",
    "import numpy as np\n",
    "import pandas as pd\n",
    "import matplotlib.pyplot as plt \n",
    "#!pip install geopandas\n",
    "#!pip install geopy\n",
    "from geopy.geocoders import Nominatim\n",
    "import re"
   ]
  },
  {
   "cell_type": "code",
   "execution_count": 2,
   "id": "8da77b0a",
   "metadata": {},
   "outputs": [],
   "source": [
    "extension = 'csv'\n",
    "all_filenames = [i for i in glob.glob('*.{}'.format(extension))]"
   ]
  },
  {
   "cell_type": "code",
   "execution_count": 3,
   "id": "6fd7444f",
   "metadata": {},
   "outputs": [],
   "source": [
    "filenames_2019 = all_filenames[:6]\n",
    "\n",
    "filenames_2020_2021 = all_filenames[6:]"
   ]
  },
  {
   "cell_type": "code",
   "execution_count": 4,
   "id": "5961af04",
   "metadata": {},
   "outputs": [],
   "source": [
    "#combine all files in the list\n",
    "df_19 = pd.concat([pd.read_csv(f) for f in filenames_2019 ])\n",
    "\n",
    "df_20_21 = pd.concat([pd.read_csv(f) for f in filenames_2020_2021 ])"
   ]
  },
  {
   "cell_type": "code",
   "execution_count": 5,
   "id": "d33e7460",
   "metadata": {},
   "outputs": [],
   "source": [
    "# Create 4 empty columns in 2019 data\n",
    "\n",
    "df_19['start_lat'] = \" \"\n",
    "df_19['start_lng'] = \" \"\n",
    "df_19['end_lat'] = \" \"\n",
    "df_19['end_lng'] = \" \"\n",
    "\n",
    "df_19['ride_id'] = \" \"\n",
    "df_19['rideable_type'] = \" \"\n"
   ]
  },
  {
   "cell_type": "code",
   "execution_count": 6,
   "id": "98c2c3ee",
   "metadata": {},
   "outputs": [],
   "source": [
    "# Create functions for geocoding \n",
    "\n",
    "def extract_lat(address):\n",
    "    try:\n",
    "        location = geolocator.geocode(address)\n",
    "        return location.latitude\n",
    "    except:\n",
    "        return ''\n",
    "\n",
    "    \n",
    "def extract_long(address):\n",
    "    try:\n",
    "        location = geolocator.geocode(address)\n",
    "        return location.longitude\n",
    "    except:\n",
    "        return ''"
   ]
  },
  {
   "cell_type": "code",
   "execution_count": 7,
   "id": "8911b359",
   "metadata": {},
   "outputs": [],
   "source": [
    "from geopy.geocoders import Nominatim\n",
    "geolocator = Nominatim(user_agent=\"example app\")"
   ]
  },
  {
   "cell_type": "code",
   "execution_count": 12,
   "id": "0870262f",
   "metadata": {},
   "outputs": [],
   "source": [
    "# run in shell the next code to activate parrallel processing with all cores \n",
    "\n",
    "# ipcluster start -n 8"
   ]
  },
  {
   "cell_type": "code",
   "execution_count": 13,
   "id": "cfbac2ed",
   "metadata": {},
   "outputs": [
    {
     "data": {
      "text/plain": [
       "'\\nfrom ipyparallel import Client\\nrc = Client()\\n'"
      ]
     },
     "execution_count": 13,
     "metadata": {},
     "output_type": "execute_result"
    }
   ],
   "source": [
    "'''\n",
    "from ipyparallel import Client\n",
    "rc = Client()\n",
    "'''"
   ]
  },
  {
   "cell_type": "code",
   "execution_count": 14,
   "id": "081b7847",
   "metadata": {},
   "outputs": [
    {
     "data": {
      "text/plain": [
       "'\\n# check cores \\nrc.ids\\n\\n#To run parallel add it before code \\n\\n%%px\\n'"
      ]
     },
     "execution_count": 14,
     "metadata": {},
     "output_type": "execute_result"
    }
   ],
   "source": [
    "'''\n",
    "# check cores \n",
    "rc.ids\n",
    "\n",
    "#To run parallel add it before code \n",
    "\n",
    "%%px\n",
    "'''"
   ]
  },
  {
   "cell_type": "code",
   "execution_count": 16,
   "id": "e819e773",
   "metadata": {},
   "outputs": [
    {
     "data": {
      "text/plain": [
       "\"\\ndf_19['start_lat'] = df_19['Start station'].map(lambda x: extract_long(x))\\n\\ndf_19['start_lng'] = df_19['Start station'].map(lambda x: extract_lat(x))\\n\\n\\ndf_19['end_lat'] = df_19['End station'].map(lambda x: extract_long(x))\\n\\ndf_19['end_lng'] = df_19['End station'].map(lambda x: extract_lat(x))\\n\""
      ]
     },
     "execution_count": 16,
     "metadata": {},
     "output_type": "execute_result"
    }
   ],
   "source": [
    "'''\n",
    "df_19['start_lat'] = df_19['Start station'].map(lambda x: extract_long(x))\n",
    "\n",
    "df_19['start_lng'] = df_19['Start station'].map(lambda x: extract_lat(x))\n",
    "\n",
    "\n",
    "df_19['end_lat'] = df_19['End station'].map(lambda x: extract_long(x))\n",
    "\n",
    "df_19['end_lng'] = df_19['End station'].map(lambda x: extract_lat(x))\n",
    "'''"
   ]
  },
  {
   "cell_type": "code",
   "execution_count": 9,
   "id": "6f0a581d",
   "metadata": {},
   "outputs": [
    {
     "data": {
      "text/plain": [
       "16"
      ]
     },
     "execution_count": 9,
     "metadata": {},
     "output_type": "execute_result"
    }
   ],
   "source": [
    "import multiprocessing\n",
    "\n",
    "multiprocessing.cpu_count() # or os.cpu_count()"
   ]
  },
  {
   "cell_type": "markdown",
   "id": "664c09ab",
   "metadata": {},
   "source": [
    "### Make the same columns for all datasets "
   ]
  },
  {
   "cell_type": "code",
   "execution_count": 24,
   "id": "0ed5982f",
   "metadata": {},
   "outputs": [],
   "source": [
    "df_19 = df_19.loc[:, [\"ride_id\",\"rideable_type\",\"Start date\",\"End date\", \"Start station\", \"Start station number\"\n",
    "           ,\"End station\", \"End station number\",'start_lat', 'start_lng', 'end_lat', 'end_lng','Member type','Bike number','Duration']]\n",
    "\n",
    "\n",
    "df_19.columns = ['ride_id', 'rideable_type', 'started_at', 'ended_at','start_station_name', 'start_station_id', \n",
    "                 'end_station_name','end_station_id', 'start_lat', 'start_lng', 'end_lat', 'end_lng','member_casual', 'Bike number', 'Duration']\n"
   ]
  },
  {
   "cell_type": "code",
   "execution_count": 26,
   "id": "2f9f4180",
   "metadata": {},
   "outputs": [],
   "source": [
    "# Add columns in 2020_2021 data \n",
    "\n",
    "df_20_21['Bike number']= \"\"\n",
    "\n",
    "#convert columns to datetime\n",
    "df_20_21[['started_at','ended_at']] = df_20_21[['started_at','ended_at']].apply(pd.to_datetime)\n",
    "\n",
    "#calculate difference between dates\n",
    "df_20_21['Duration'] = (df_20_21['ended_at'] - df_20_21['started_at']) / np.timedelta64(1, 's')\n"
   ]
  },
  {
   "cell_type": "code",
   "execution_count": 41,
   "id": "a2eb3db1",
   "metadata": {},
   "outputs": [],
   "source": [
    "# Change the wording in order to be aligned\n",
    "\n",
    "df_19[\"member_casual\"] = df_19[\"member_casual\"].map(lambda x: \"member\" if x==\"Member\" else \"casual\")"
   ]
  },
  {
   "cell_type": "markdown",
   "id": "74a81a11",
   "metadata": {},
   "source": [
    "### Consolidate all data "
   ]
  },
  {
   "cell_type": "code",
   "execution_count": 43,
   "id": "9c4baeaa",
   "metadata": {},
   "outputs": [],
   "source": [
    "df = pd.concat([df_19, df_20_21])"
   ]
  },
  {
   "cell_type": "code",
   "execution_count": 69,
   "id": "89264991",
   "metadata": {},
   "outputs": [],
   "source": [
    "# Add semi annual column \n",
    "\n",
    "df[['started_at','ended_at']] = df[['started_at','ended_at']].apply(pd.to_datetime)\n",
    "\n",
    "df['semi_annual'] = df['started_at'].map(lambda x:\"H2 2019\" if x.year==2019 else (\"H2 2020\" if x.year==2020 else \"H2 2021\"))\n"
   ]
  },
  {
   "cell_type": "code",
   "execution_count": 71,
   "id": "a6fa37b4",
   "metadata": {},
   "outputs": [],
   "source": [
    "#export to csv\n",
    "df.to_csv( \"data.csv\", index=False)"
   ]
  },
  {
   "cell_type": "code",
   "execution_count": null,
   "id": "5ac74036",
   "metadata": {},
   "outputs": [],
   "source": []
  },
  {
   "cell_type": "code",
   "execution_count": null,
   "id": "469eb074",
   "metadata": {},
   "outputs": [],
   "source": []
  },
  {
   "cell_type": "code",
   "execution_count": null,
   "id": "41fb4ad1",
   "metadata": {},
   "outputs": [],
   "source": []
  },
  {
   "cell_type": "code",
   "execution_count": null,
   "id": "2326b32a",
   "metadata": {},
   "outputs": [],
   "source": []
  },
  {
   "cell_type": "code",
   "execution_count": null,
   "id": "17627ba2",
   "metadata": {},
   "outputs": [],
   "source": []
  },
  {
   "cell_type": "code",
   "execution_count": null,
   "id": "b7bc74ba",
   "metadata": {},
   "outputs": [],
   "source": []
  },
  {
   "cell_type": "code",
   "execution_count": null,
   "id": "58137de1",
   "metadata": {},
   "outputs": [],
   "source": []
  },
  {
   "cell_type": "code",
   "execution_count": null,
   "id": "04353786",
   "metadata": {},
   "outputs": [],
   "source": []
  }
 ],
 "metadata": {
  "kernelspec": {
   "display_name": "Python 3",
   "language": "python",
   "name": "python3"
  },
  "language_info": {
   "codemirror_mode": {
    "name": "ipython",
    "version": 3
   },
   "file_extension": ".py",
   "mimetype": "text/x-python",
   "name": "python",
   "nbconvert_exporter": "python",
   "pygments_lexer": "ipython3",
   "version": "3.7.10"
  }
 },
 "nbformat": 4,
 "nbformat_minor": 5
}
