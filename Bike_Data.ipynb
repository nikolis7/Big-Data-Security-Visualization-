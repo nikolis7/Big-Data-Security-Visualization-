{
 "cells": [
  {
   "cell_type": "markdown",
   "id": "dc46faee",
   "metadata": {},
   "source": [
    "# Data Consolidattion "
   ]
  },
  {
   "cell_type": "code",
   "execution_count": 2,
   "id": "bcffce0a",
   "metadata": {},
   "outputs": [],
   "source": [
    "import os\n",
    "import glob\n",
    "import numpy as np\n",
    "import pandas as pd\n",
    "import matplotlib.pyplot as plt \n",
    "#!pip install geopandas\n",
    "#!pip install geopy\n",
    "from geopy.geocoders import Nominatim\n",
    "import re\n",
    "import matplotlib.pyplot as plt\n",
    "import numpy as np"
   ]
  },
  {
   "cell_type": "code",
   "execution_count": 2,
   "id": "8da77b0a",
   "metadata": {},
   "outputs": [],
   "source": [
    "extension = 'csv'\n",
    "all_filenames = [i for i in glob.glob('*.{}'.format(extension))]"
   ]
  },
  {
   "cell_type": "code",
   "execution_count": 3,
   "id": "2b0436c9",
   "metadata": {},
   "outputs": [],
   "source": [
    "filenames_2019 = all_filenames[:6]\n",
    "\n",
    "filenames_2020_2021 = all_filenames[6:]"
   ]
  },
  {
   "cell_type": "code",
   "execution_count": 4,
   "id": "6914cdd4",
   "metadata": {},
   "outputs": [],
   "source": [
    "#combine all files in the list\n",
    "df_19 = pd.concat([pd.read_csv(f) for f in filenames_2019 ])\n",
    "\n",
    "df_20_21 = pd.concat([pd.read_csv(f) for f in filenames_2020_2021 ])"
   ]
  },
  {
   "cell_type": "code",
   "execution_count": 5,
   "id": "903c8fd6",
   "metadata": {},
   "outputs": [],
   "source": [
    "# Create 4 empty columns in 2019 data\n",
    "\n",
    "df_19['start_lat'] = \" \"\n",
    "df_19['start_lng'] = \" \"\n",
    "df_19['end_lat'] = \" \"\n",
    "df_19['end_lng'] = \" \"\n",
    "\n",
    "df_19['ride_id'] = \" \"\n",
    "df_19['rideable_type'] = \" \"\n"
   ]
  },
  {
   "cell_type": "code",
   "execution_count": 6,
   "id": "91f3edfd",
   "metadata": {},
   "outputs": [],
   "source": [
    "# Create functions for geocoding \n",
    "\n",
    "def extract_lat(address):\n",
    "    try:\n",
    "        location = geolocator.geocode(address)\n",
    "        return location.latitude\n",
    "    except:\n",
    "        return ''\n",
    "\n",
    "    \n",
    "def extract_long(address):\n",
    "    try:\n",
    "        location = geolocator.geocode(address)\n",
    "        return location.longitude\n",
    "    except:\n",
    "        return ''"
   ]
  },
  {
   "cell_type": "code",
   "execution_count": 7,
   "id": "c863847f",
   "metadata": {},
   "outputs": [],
   "source": [
    "from geopy.geocoders import Nominatim\n",
    "geolocator = Nominatim(user_agent=\"example app\")"
   ]
  },
  {
   "cell_type": "markdown",
   "id": "75b429c2",
   "metadata": {},
   "source": [
    "### Make the same columns for all datasets "
   ]
  },
  {
   "cell_type": "code",
   "execution_count": 24,
   "id": "88edd8bf",
   "metadata": {},
   "outputs": [],
   "source": [
    "df_19 = df_19.loc[:, [\"ride_id\",\"rideable_type\",\"Start date\",\"End date\", \"Start station\", \"Start station number\"\n",
    "           ,\"End station\", \"End station number\",'start_lat', 'start_lng', 'end_lat', 'end_lng','Member type','Bike number','Duration']]\n",
    "\n",
    "\n",
    "df_19.columns = ['ride_id', 'rideable_type', 'started_at', 'ended_at','start_station_name', 'start_station_id', \n",
    "                 'end_station_name','end_station_id', 'start_lat', 'start_lng', 'end_lat', 'end_lng','member_casual', 'Bike number', 'Duration']\n"
   ]
  },
  {
   "cell_type": "code",
   "execution_count": 26,
   "id": "ff1cdc44",
   "metadata": {},
   "outputs": [],
   "source": [
    "# Add columns in 2020_2021 data \n",
    "\n",
    "df_20_21['Bike number']= \"\"\n",
    "\n",
    "#convert columns to datetime\n",
    "df_20_21[['started_at','ended_at']] = df_20_21[['started_at','ended_at']].apply(pd.to_datetime)\n",
    "\n",
    "#calculate difference between dates\n",
    "df_20_21['Duration'] = (df_20_21['ended_at'] - df_20_21['started_at']) / np.timedelta64(1, 's')\n"
   ]
  },
  {
   "cell_type": "code",
   "execution_count": 41,
   "id": "481d11ab",
   "metadata": {},
   "outputs": [],
   "source": [
    "# Change the wording in order to be aligned\n",
    "\n",
    "df_19[\"member_casual\"] = df_19[\"member_casual\"].map(lambda x: \"member\" if x==\"Member\" else \"casual\")"
   ]
  },
  {
   "cell_type": "markdown",
   "id": "139322b1",
   "metadata": {},
   "source": [
    "### Consolidate all data "
   ]
  },
  {
   "cell_type": "code",
   "execution_count": 43,
   "id": "a06512ee",
   "metadata": {},
   "outputs": [],
   "source": [
    "df = pd.concat([df_19, df_20_21])"
   ]
  },
  {
   "cell_type": "code",
   "execution_count": 69,
   "id": "903df3ca",
   "metadata": {},
   "outputs": [],
   "source": [
    "# Add semi annual column \n",
    "\n",
    "df[['started_at','ended_at']] = df[['started_at','ended_at']].apply(pd.to_datetime)\n",
    "\n",
    "df['semi_annual'] = df['started_at'].map(lambda x:\"H2 2019\" if x.year==2019 else (\"H2 2020\" if x.year==2020 else \"H2 2021\"))\n"
   ]
  },
  {
   "cell_type": "code",
   "execution_count": 71,
   "id": "87c9d6a9",
   "metadata": {},
   "outputs": [],
   "source": [
    "#export to csv\n",
    "df.to_csv( \"data.csv\", index=False)"
   ]
  },
  {
   "cell_type": "markdown",
   "id": "a122c298",
   "metadata": {},
   "source": [
    "### Import data "
   ]
  },
  {
   "cell_type": "code",
   "execution_count": 2,
   "id": "36d3cf37",
   "metadata": {},
   "outputs": [
    {
     "name": "stderr",
     "output_type": "stream",
     "text": [
      "C:\\Users\\Tsaro\\anaconda3\\lib\\site-packages\\IPython\\core\\interactiveshell.py:3166: DtypeWarning: Columns (8,9,10,11,13) have mixed types.Specify dtype option on import or set low_memory=False.\n",
      "  interactivity=interactivity, compiler=compiler, result=result)\n"
     ]
    }
   ],
   "source": [
    "df = pd.read_csv(\"data.csv\")"
   ]
  },
  {
   "cell_type": "code",
   "execution_count": 88,
   "id": "60eb2e6b",
   "metadata": {},
   "outputs": [
    {
     "data": {
      "text/plain": [
       "ride_id                     6\n",
       "rideable_type               0\n",
       "started_at                  0\n",
       "ended_at                    0\n",
       "start_station_name     178663\n",
       "start_station_id       178663\n",
       "end_station_name       201847\n",
       "end_station_id         201847\n",
       "start_lat                   8\n",
       "start_lng                   8\n",
       "end_lat                  7553\n",
       "end_lng                  7553\n",
       "member_casual               0\n",
       "Bike number           2895766\n",
       "Duration                    0\n",
       "semi_annual                 0\n",
       "dtype: int64"
      ]
     },
     "execution_count": 88,
     "metadata": {},
     "output_type": "execute_result"
    }
   ],
   "source": [
    "# Missing values\n",
    "df.isnull().sum()"
   ]
  },
  {
   "cell_type": "code",
   "execution_count": 3,
   "id": "3fbe2c6b",
   "metadata": {},
   "outputs": [
    {
     "data": {
      "text/plain": [
       "683"
      ]
     },
     "execution_count": 3,
     "metadata": {},
     "output_type": "execute_result"
    }
   ],
   "source": [
    "np.count_nonzero(df.start_station_id.unique())"
   ]
  },
  {
   "cell_type": "code",
   "execution_count": 4,
   "id": "d8b03a00",
   "metadata": {},
   "outputs": [
    {
     "data": {
      "text/plain": [
       "683"
      ]
     },
     "execution_count": 4,
     "metadata": {},
     "output_type": "execute_result"
    }
   ],
   "source": [
    "np.count_nonzero(df.end_station_id.unique())"
   ]
  },
  {
   "cell_type": "code",
   "execution_count": 5,
   "id": "34ce2dbe",
   "metadata": {},
   "outputs": [
    {
     "data": {
      "text/plain": [
       "713"
      ]
     },
     "execution_count": 5,
     "metadata": {},
     "output_type": "execute_result"
    }
   ],
   "source": [
    "np.count_nonzero(df.start_station_name.dropna().unique())"
   ]
  },
  {
   "cell_type": "code",
   "execution_count": 6,
   "id": "b05c9b13",
   "metadata": {},
   "outputs": [
    {
     "data": {
      "text/plain": [
       "713"
      ]
     },
     "execution_count": 6,
     "metadata": {},
     "output_type": "execute_result"
    }
   ],
   "source": [
    "np.count_nonzero(df.end_station_name.dropna().unique())"
   ]
  },
  {
   "cell_type": "code",
   "execution_count": 7,
   "id": "a52e0349",
   "metadata": {},
   "outputs": [],
   "source": [
    "start = df.start_station_name.dropna().unique()\n",
    "end = df.end_station_name.dropna().unique()"
   ]
  },
  {
   "cell_type": "code",
   "execution_count": 8,
   "id": "fd98520b",
   "metadata": {},
   "outputs": [],
   "source": [
    "from opencage.geocoder import OpenCageGeocode\n",
    "\n",
    "def geo_lat(x):\n",
    "    key = \"18f60230b17a4b76a633dd7eb0f9ee98\"\n",
    "    geocoder = OpenCageGeocode(key)\n",
    "    address = x\n",
    "    result = geocoder.geocode(address, no_annotations=\"1\")  \n",
    "    \n",
    "    return result[0]['geometry']['lat']\n",
    "\n",
    "def geo_lng(x):\n",
    "    key = \"18f60230b17a4b76a633dd7eb0f9ee98\"\n",
    "    geocoder = OpenCageGeocode(key)\n",
    "    address = x\n",
    "    result = geocoder.geocode(address, no_annotations=\"1\")  \n",
    "    \n",
    "    return result[0]['geometry']['lng']"
   ]
  },
  {
   "cell_type": "code",
   "execution_count": 9,
   "id": "c8f3fe6f",
   "metadata": {},
   "outputs": [],
   "source": [
    "addresses = start\n",
    "key = \"18f60230b17a4b76a633dd7eb0f9ee98\"\n",
    "geocoder = OpenCageGeocode(key)\n",
    "latitudes_start = []\n",
    "longitudes_start = []\n",
    "for address in addresses: \n",
    "    result = geocoder.geocode(address, no_annotations=\"1\")  \n",
    "    \n",
    "    if result and len(result):  \n",
    "        longitude = result[0][\"geometry\"][\"lng\"]  \n",
    "        latitude = result[0][\"geometry\"][\"lat\"] \n",
    "    else:  \n",
    "        longitude = \"N/A\"  \n",
    "        latitude = \"N/A\"  \n",
    "    \n",
    "    latitudes_start.append(latitude) \n",
    "    longitudes_start.append(longitude)"
   ]
  },
  {
   "cell_type": "code",
   "execution_count": 10,
   "id": "9725f2af",
   "metadata": {},
   "outputs": [],
   "source": [
    "addresses = end\n",
    "key = \"18f60230b17a4b76a633dd7eb0f9ee98\"\n",
    "geocoder = OpenCageGeocode(key)\n",
    "latitudes_end = []\n",
    "longitudes_end = []\n",
    "for address in addresses: \n",
    "    result = geocoder.geocode(address, no_annotations=\"1\")  \n",
    "    \n",
    "    if result and len(result):  \n",
    "        longitude = result[0][\"geometry\"][\"lng\"]  \n",
    "        latitude = result[0][\"geometry\"][\"lat\"] \n",
    "    else:  \n",
    "        longitude = \"N/A\"  \n",
    "        latitude = \"N/A\"  \n",
    "    \n",
    "    latitudes_end.append(latitude) \n",
    "    longitudes_end.append(longitude)"
   ]
  },
  {
   "cell_type": "code",
   "execution_count": 11,
   "id": "bd06d4d2",
   "metadata": {},
   "outputs": [],
   "source": [
    "df_geo = pd.DataFrame()"
   ]
  },
  {
   "cell_type": "code",
   "execution_count": 12,
   "id": "11d184c3",
   "metadata": {},
   "outputs": [],
   "source": [
    "df_geo['start'] = start"
   ]
  },
  {
   "cell_type": "code",
   "execution_count": 13,
   "id": "ad03fe0a",
   "metadata": {},
   "outputs": [],
   "source": [
    "df_geo['end'] = end"
   ]
  },
  {
   "cell_type": "code",
   "execution_count": 15,
   "id": "3ab1bb6f",
   "metadata": {},
   "outputs": [],
   "source": [
    "df_geo['start_lat'] = latitudes_start\n",
    "\n",
    "df_geo['start_long'] = longitudes_start\n",
    "\n",
    "df_geo['end_lat'] = latitudes_end\n",
    "\n",
    "df_geo['end_long'] = longitudes_end\n"
   ]
  },
  {
   "cell_type": "code",
   "execution_count": 21,
   "id": "cab919a9",
   "metadata": {},
   "outputs": [],
   "source": [
    "#export to csv\n",
    "df_geo.to_csv( \"geo.csv\", index=False)"
   ]
  },
  {
   "cell_type": "code",
   "execution_count": 26,
   "id": "4e6e600e",
   "metadata": {},
   "outputs": [],
   "source": [
    "# change column names \n",
    "df_geo.columns = ['start_station_name',\"end_station_name\", 'start_lat', 'start_lng','end_lat','end_lng']\n"
   ]
  },
  {
   "cell_type": "code",
   "execution_count": 42,
   "id": "e409164c",
   "metadata": {},
   "outputs": [],
   "source": [
    "df_geo_start = df_geo[['start_station_name', 'start_lat', 'start_lng']]\n",
    "\n",
    "df_geo_end = df_geo[['end_station_name', 'end_lat', 'end_lng']]"
   ]
  },
  {
   "cell_type": "code",
   "execution_count": 34,
   "id": "f90ffc97",
   "metadata": {},
   "outputs": [],
   "source": [
    "df_19 = df[df.semi_annual==\"H2 2019\"]"
   ]
  },
  {
   "cell_type": "code",
   "execution_count": 47,
   "id": "20c56c5c",
   "metadata": {},
   "outputs": [],
   "source": [
    "# Connect geocoding to dataframe of 2019 \n",
    "n_df_19 = pd.merge(df_19, df_geo_start, on ='start_station_name', how ='left')\n",
    "\n",
    "df_19_f = pd.merge(n_df_19, df_geo_end, on ='end_station_name', how ='left')"
   ]
  },
  {
   "cell_type": "code",
   "execution_count": 49,
   "id": "7a88c7e2",
   "metadata": {},
   "outputs": [],
   "source": [
    "df_19_f.drop(['start_lat_x', \"start_lng_x\", 'end_lat_x','end_lng_x'],axis=1, inplace=True)"
   ]
  },
  {
   "cell_type": "code",
   "execution_count": 53,
   "id": "28454c2f",
   "metadata": {},
   "outputs": [],
   "source": [
    "# change column names \n",
    "df_19_f.columns = ['ride_id', 'rideable_type', 'started_at', 'ended_at',\n",
    "       'start_station_name', 'start_station_id', 'end_station_name',\n",
    "       'end_station_id', 'member_casual', 'Bike number', 'Duration',\n",
    "       'semi_annual', 'start_lat', 'start_lng', 'end_lat', 'end_lng']\n",
    "\n",
    "\n",
    "# change the column order  \n",
    "\n",
    "df_19_f = df_19_f[['ride_id', 'rideable_type', 'started_at', 'ended_at',\n",
    "       'start_station_name', 'start_station_id', 'end_station_name',\n",
    "       'end_station_id', 'start_lat', 'start_lng', 'end_lat', 'end_lng',\n",
    "       'member_casual', 'Bike number', 'Duration', 'semi_annual']]\n"
   ]
  },
  {
   "cell_type": "code",
   "execution_count": null,
   "id": "2c8cc238",
   "metadata": {},
   "outputs": [],
   "source": [
    "df_rest = df[df.semi_annual!=\"H2 2019\"]\n",
    "\n",
    "df_rest.reset_index(drop=True, inplace=True)\n",
    "\n",
    "df_vf = pd.merge(df_19_f,df_rest, how='outer')\n"
   ]
  },
  {
   "cell_type": "code",
   "execution_count": 87,
   "id": "69d5efe8",
   "metadata": {},
   "outputs": [],
   "source": [
    "#export to csv\n",
    "df_vf.to_csv( \"final_data.csv\", index=False)\n"
   ]
  },
  {
   "cell_type": "code",
   "execution_count": 2,
   "id": "5da34c7e",
   "metadata": {},
   "outputs": [
    {
     "name": "stderr",
     "output_type": "stream",
     "text": [
      "C:\\Users\\Tsaro\\anaconda3\\lib\\site-packages\\IPython\\core\\interactiveshell.py:3166: DtypeWarning: Columns (13) have mixed types.Specify dtype option on import or set low_memory=False.\n",
      "  interactivity=interactivity, compiler=compiler, result=result)\n"
     ]
    }
   ],
   "source": [
    "# Open the data \n",
    "\n",
    "df = pd.read_csv('final_data.csv')\n",
    "        "
   ]
  },
  {
   "cell_type": "code",
   "execution_count": 90,
   "id": "02839ea2",
   "metadata": {},
   "outputs": [
    {
     "data": {
      "text/plain": [
       "ride_id                    14\n",
       "rideable_type               0\n",
       "started_at                  0\n",
       "ended_at                    0\n",
       "start_station_name     178663\n",
       "start_station_id       178663\n",
       "end_station_name       201847\n",
       "end_station_id         201847\n",
       "start_lat              108120\n",
       "start_lng              108120\n",
       "end_lat                117466\n",
       "end_lng                117466\n",
       "member_casual               0\n",
       "Bike number           2895766\n",
       "Duration                    0\n",
       "semi_annual                 0\n",
       "dtype: int64"
      ]
     },
     "execution_count": 90,
     "metadata": {},
     "output_type": "execute_result"
    }
   ],
   "source": [
    "# Missing values\n",
    "df.isnull().sum()"
   ]
  },
  {
   "cell_type": "code",
   "execution_count": 3,
   "id": "e91d8fde",
   "metadata": {},
   "outputs": [],
   "source": [
    "# Remove missing values since we have plenty of data \n",
    "\n",
    "df.dropna(subset=['start_station_name', 'start_station_id',\"end_station_name\",\"end_station_id\",\"start_lat\",\"start_lng\",\"end_lat\",\"end_lng\"], how=\"any\", inplace=True)"
   ]
  },
  {
   "cell_type": "code",
   "execution_count": 4,
   "id": "aca69a40",
   "metadata": {},
   "outputs": [],
   "source": [
    "#export to csv\n",
    "df.to_csv( \"final_clean_data.csv\", index=False)"
   ]
  },
  {
   "cell_type": "code",
   "execution_count": 14,
   "id": "3a045760",
   "metadata": {},
   "outputs": [
    {
     "name": "stderr",
     "output_type": "stream",
     "text": [
      "C:\\Users\\Tsaro\\anaconda3\\lib\\site-packages\\IPython\\core\\interactiveshell.py:3166: DtypeWarning: Columns (13) have mixed types.Specify dtype option on import or set low_memory=False.\n",
      "  interactivity=interactivity, compiler=compiler, result=result)\n"
     ]
    }
   ],
   "source": [
    "df = pd.read_csv('final_clean_data.csv')"
   ]
  },
  {
   "cell_type": "code",
   "execution_count": 4,
   "id": "596c2668",
   "metadata": {},
   "outputs": [
    {
     "data": {
      "text/plain": [
       "ride_id                    19\n",
       "rideable_type               0\n",
       "started_at                  0\n",
       "ended_at                    0\n",
       "start_station_name          0\n",
       "start_station_id            0\n",
       "end_station_name            0\n",
       "end_station_id              0\n",
       "start_lat                   0\n",
       "start_lng                   0\n",
       "end_lat                     0\n",
       "end_lng                     0\n",
       "member_casual               0\n",
       "Bike number           2624538\n",
       "Duration                    0\n",
       "semi_annual                 0\n",
       "dtype: int64"
      ]
     },
     "execution_count": 4,
     "metadata": {},
     "output_type": "execute_result"
    }
   ],
   "source": [
    "df.isnull().sum()"
   ]
  },
  {
   "cell_type": "code",
   "execution_count": 15,
   "id": "7645d7f7",
   "metadata": {},
   "outputs": [],
   "source": [
    "# remove those instances where ended at is before started at \n",
    "df = df[df.started_at<df.ended_at]"
   ]
  },
  {
   "cell_type": "code",
   "execution_count": 19,
   "id": "c8631fbd",
   "metadata": {},
   "outputs": [],
   "source": [
    "#export to csv\n",
    "df.to_csv( \"final_clean_data2.csv\", index=False)"
   ]
  },
  {
   "cell_type": "code",
   "execution_count": 3,
   "id": "b5d164ed",
   "metadata": {},
   "outputs": [
    {
     "data": {
      "text/plain": [
       "'    \\ndistance = 6373 *(2 * atan2(sqrt(sin((lat2 - lat1) / 2)**2 + cos(lat1) * cos(lat2) * sin((lon2 - lon1) / 2)**2), sqrt(1 - sin((lat2 - lat1) / 2)**2 + cos(lat1) * cos(lat2) * sin((lon2 - lon1) / 2)**2)))\\n'"
      ]
     },
     "execution_count": 3,
     "metadata": {},
     "output_type": "execute_result"
    }
   ],
   "source": [
    "# Create function that calculates the distance between geospatial data \n",
    "\n",
    "from math import sin, cos, sqrt, atan2, radians\n",
    "\n",
    "def distance(x,y,z,w): \n",
    "    \n",
    "        # approximate radius of earth in km\n",
    "        R = 6373.0\n",
    "        lat1 = radians(x) # start lat\n",
    "        lon1 = radians(y) # start log\n",
    "        lat2 = radians(z) # end lat \n",
    "        lon2 = radians(w) # end log \n",
    "\n",
    "        dlon = lon2 - lon1\n",
    "        dlat = lat2 - lat1\n",
    "\n",
    "        a = sin(dlat / 2)**2 + cos(lat1) * cos(lat2) * sin(dlon / 2)**2\n",
    "        c = 2 * atan2(sqrt(a), sqrt(1 - a))\n",
    "\n",
    "        distance = R * c\n",
    "    \n",
    "        return distance\n",
    "\n",
    "'''    \n",
    "distance = 6373 *(2 * atan2(sqrt(sin((lat2 - lat1) / 2)**2 + cos(lat1) * cos(lat2) * sin((lon2 - lon1) / 2)**2), sqrt(1 - sin((lat2 - lat1) / 2)**2 + cos(lat1) * cos(lat2) * sin((lon2 - lon1) / 2)**2)))\n",
    "''' "
   ]
  },
  {
   "cell_type": "code",
   "execution_count": 3,
   "id": "18f6e9c9",
   "metadata": {},
   "outputs": [
    {
     "name": "stderr",
     "output_type": "stream",
     "text": [
      "C:\\Users\\Tsaro\\anaconda3\\lib\\site-packages\\IPython\\core\\interactiveshell.py:3166: DtypeWarning: Columns (13) have mixed types.Specify dtype option on import or set low_memory=False.\n",
      "  interactivity=interactivity, compiler=compiler, result=result)\n"
     ]
    }
   ],
   "source": [
    "# Read data \n",
    "df = pd.read_csv( \"final_clean_data2.csv\")"
   ]
  },
  {
   "cell_type": "code",
   "execution_count": 4,
   "id": "1015fe42",
   "metadata": {},
   "outputs": [],
   "source": [
    "# set geo to numeric \n",
    "df[['start_lat', 'start_lng', 'end_lat', 'end_lng']] = df[['start_lat', 'start_lng', 'end_lat', 'end_lng']].applymap(pd.to_numeric)"
   ]
  },
  {
   "cell_type": "code",
   "execution_count": 5,
   "id": "de6d78cd",
   "metadata": {},
   "outputs": [],
   "source": [
    "# Calculate distance in km \n",
    "df['distance'] = 6373* 2 * np.arctan2(np.sqrt(np.sin((df['end_lat']-df['start_lat']) / 2)**2 + np.cos(df['start_lat']) * np.cos(df['end_lat']) * np.sin((df['end_lng']-df['end_lng'])) /2)**2, np.sqrt(1-np.sin((df['end_lat']-df['start_lat']) / 2)**2 + np.cos(df['start_lat']) * np.cos(df['end_lat']) * np.sin((df['end_lng']-df['end_lng'])) /2)**2)"
   ]
  },
  {
   "cell_type": "code",
   "execution_count": 6,
   "id": "34069bdf",
   "metadata": {},
   "outputs": [],
   "source": [
    "#export to csv\n",
    "df.to_csv( \"final_clean_data3.csv\", index=False)"
   ]
  },
  {
   "cell_type": "markdown",
   "id": "96b57548",
   "metadata": {},
   "source": [
    "### EDA"
   ]
  },
  {
   "cell_type": "code",
   "execution_count": 30,
   "id": "726ad412",
   "metadata": {},
   "outputs": [
    {
     "data": {
      "text/html": [
       "<div>\n",
       "<style scoped>\n",
       "    .dataframe tbody tr th:only-of-type {\n",
       "        vertical-align: middle;\n",
       "    }\n",
       "\n",
       "    .dataframe tbody tr th {\n",
       "        vertical-align: top;\n",
       "    }\n",
       "\n",
       "    .dataframe thead th {\n",
       "        text-align: right;\n",
       "    }\n",
       "</style>\n",
       "<table border=\"1\" class=\"dataframe\">\n",
       "  <thead>\n",
       "    <tr style=\"text-align: right;\">\n",
       "      <th></th>\n",
       "      <th>ride_id</th>\n",
       "      <th>rideable_type</th>\n",
       "      <th>started_at</th>\n",
       "      <th>ended_at</th>\n",
       "      <th>start_station_name</th>\n",
       "      <th>start_station_id</th>\n",
       "      <th>end_station_name</th>\n",
       "      <th>end_station_id</th>\n",
       "      <th>start_lat</th>\n",
       "      <th>start_lng</th>\n",
       "      <th>end_lat</th>\n",
       "      <th>end_lng</th>\n",
       "      <th>member_casual</th>\n",
       "      <th>Bike number</th>\n",
       "      <th>Duration</th>\n",
       "      <th>semi_annual</th>\n",
       "      <th>distance</th>\n",
       "    </tr>\n",
       "  </thead>\n",
       "  <tbody>\n",
       "    <tr>\n",
       "      <th>0</th>\n",
       "      <td></td>\n",
       "      <td></td>\n",
       "      <td>2019-07-01 00:00:05</td>\n",
       "      <td>2019-07-01 00:08:53</td>\n",
       "      <td>Wisconsin Ave &amp; O St NW</td>\n",
       "      <td>31312.0</td>\n",
       "      <td>20th &amp; O St NW / Dupont South</td>\n",
       "      <td>31234.0</td>\n",
       "      <td>38.908498</td>\n",
       "      <td>-77.063588</td>\n",
       "      <td>38.908905</td>\n",
       "      <td>-77.044780</td>\n",
       "      <td>member</td>\n",
       "      <td>W23055</td>\n",
       "      <td>528.0</td>\n",
       "      <td>H2 2019</td>\n",
       "      <td>0.000528</td>\n",
       "    </tr>\n",
       "    <tr>\n",
       "      <th>1</th>\n",
       "      <td></td>\n",
       "      <td></td>\n",
       "      <td>2019-07-01 00:00:17</td>\n",
       "      <td>2019-07-01 00:09:26</td>\n",
       "      <td>15th St &amp; Constitution Ave NW</td>\n",
       "      <td>31321.0</td>\n",
       "      <td>8th &amp; D St NW</td>\n",
       "      <td>31270.0</td>\n",
       "      <td>38.892267</td>\n",
       "      <td>-77.033515</td>\n",
       "      <td>38.894859</td>\n",
       "      <td>-77.023242</td>\n",
       "      <td>member</td>\n",
       "      <td>W20124</td>\n",
       "      <td>548.0</td>\n",
       "      <td>H2 2019</td>\n",
       "      <td>0.021398</td>\n",
       "    </tr>\n",
       "  </tbody>\n",
       "</table>\n",
       "</div>"
      ],
      "text/plain": [
       "  ride_id rideable_type           started_at             ended_at  \\\n",
       "0                        2019-07-01 00:00:05  2019-07-01 00:08:53   \n",
       "1                        2019-07-01 00:00:17  2019-07-01 00:09:26   \n",
       "\n",
       "              start_station_name  start_station_id  \\\n",
       "0        Wisconsin Ave & O St NW           31312.0   \n",
       "1  15th St & Constitution Ave NW           31321.0   \n",
       "\n",
       "                end_station_name  end_station_id  start_lat  start_lng  \\\n",
       "0  20th & O St NW / Dupont South         31234.0  38.908498 -77.063588   \n",
       "1                  8th & D St NW         31270.0  38.892267 -77.033515   \n",
       "\n",
       "     end_lat    end_lng member_casual Bike number  Duration semi_annual  \\\n",
       "0  38.908905 -77.044780        member      W23055     528.0     H2 2019   \n",
       "1  38.894859 -77.023242        member      W20124     548.0     H2 2019   \n",
       "\n",
       "   distance  \n",
       "0  0.000528  \n",
       "1  0.021398  "
      ]
     },
     "execution_count": 30,
     "metadata": {},
     "output_type": "execute_result"
    }
   ],
   "source": [
    "df.head(2)"
   ]
  },
  {
   "cell_type": "code",
   "execution_count": 27,
   "id": "bd704d88",
   "metadata": {},
   "outputs": [
    {
     "data": {
      "text/plain": [
       "(4223112, 17)"
      ]
     },
     "execution_count": 27,
     "metadata": {},
     "output_type": "execute_result"
    }
   ],
   "source": [
    "df.shape"
   ]
  },
  {
   "cell_type": "code",
   "execution_count": 28,
   "id": "d91da736",
   "metadata": {},
   "outputs": [
    {
     "data": {
      "text/plain": [
       "ride_id                object\n",
       "rideable_type          object\n",
       "started_at             object\n",
       "ended_at               object\n",
       "start_station_name     object\n",
       "start_station_id      float64\n",
       "end_station_name       object\n",
       "end_station_id        float64\n",
       "start_lat             float64\n",
       "start_lng             float64\n",
       "end_lat               float64\n",
       "end_lng               float64\n",
       "member_casual          object\n",
       "Bike number            object\n",
       "Duration              float64\n",
       "semi_annual            object\n",
       "distance              float64\n",
       "dtype: object"
      ]
     },
     "execution_count": 28,
     "metadata": {},
     "output_type": "execute_result"
    }
   ],
   "source": [
    "df.dtypes"
   ]
  },
  {
   "cell_type": "code",
   "execution_count": 29,
   "id": "329695bf",
   "metadata": {},
   "outputs": [
    {
     "data": {
      "text/plain": [
       "ride_id                    23\n",
       "rideable_type               0\n",
       "started_at                  0\n",
       "ended_at                    0\n",
       "start_station_name          0\n",
       "start_station_id            0\n",
       "end_station_name            0\n",
       "end_station_id              0\n",
       "start_lat                   0\n",
       "start_lng                   0\n",
       "end_lat                     0\n",
       "end_lng                     0\n",
       "member_casual               0\n",
       "Bike number           2618448\n",
       "Duration                    0\n",
       "semi_annual                 0\n",
       "distance                    0\n",
       "dtype: int64"
      ]
     },
     "execution_count": 29,
     "metadata": {},
     "output_type": "execute_result"
    }
   ],
   "source": [
    "# Missing values\n",
    "df.isnull().sum()"
   ]
  },
  {
   "cell_type": "code",
   "execution_count": 26,
   "id": "cd3f8be0",
   "metadata": {},
   "outputs": [
    {
     "data": {
      "text/html": [
       "<div>\n",
       "<style scoped>\n",
       "    .dataframe tbody tr th:only-of-type {\n",
       "        vertical-align: middle;\n",
       "    }\n",
       "\n",
       "    .dataframe tbody tr th {\n",
       "        vertical-align: top;\n",
       "    }\n",
       "\n",
       "    .dataframe thead th {\n",
       "        text-align: right;\n",
       "    }\n",
       "</style>\n",
       "<table border=\"1\" class=\"dataframe\">\n",
       "  <thead>\n",
       "    <tr style=\"text-align: right;\">\n",
       "      <th></th>\n",
       "      <th>start_station_id</th>\n",
       "      <th>end_station_id</th>\n",
       "      <th>start_lat</th>\n",
       "      <th>start_lng</th>\n",
       "      <th>end_lat</th>\n",
       "      <th>end_lng</th>\n",
       "      <th>Duration</th>\n",
       "      <th>distance</th>\n",
       "    </tr>\n",
       "  </thead>\n",
       "  <tbody>\n",
       "    <tr>\n",
       "      <th>count</th>\n",
       "      <td>4.223112e+06</td>\n",
       "      <td>4.223112e+06</td>\n",
       "      <td>4.223112e+06</td>\n",
       "      <td>4.223112e+06</td>\n",
       "      <td>4.223112e+06</td>\n",
       "      <td>4.223112e+06</td>\n",
       "      <td>4.223112e+06</td>\n",
       "      <td>4.223112e+06</td>\n",
       "    </tr>\n",
       "    <tr>\n",
       "      <th>mean</th>\n",
       "      <td>3.135130e+04</td>\n",
       "      <td>3.135238e+04</td>\n",
       "      <td>3.839206e+01</td>\n",
       "      <td>-7.062653e+01</td>\n",
       "      <td>3.851231e+01</td>\n",
       "      <td>-7.074356e+01</td>\n",
       "      <td>1.521693e+03</td>\n",
       "      <td>1.540338e+03</td>\n",
       "    </tr>\n",
       "    <tr>\n",
       "      <th>std</th>\n",
       "      <td>4.218553e+02</td>\n",
       "      <td>4.162535e+02</td>\n",
       "      <td>6.217704e+00</td>\n",
       "      <td>2.349201e+01</td>\n",
       "      <td>5.987855e+00</td>\n",
       "      <td>2.331368e+01</td>\n",
       "      <td>4.339243e+04</td>\n",
       "      <td>4.251207e+03</td>\n",
       "    </tr>\n",
       "    <tr>\n",
       "      <th>min</th>\n",
       "      <td>0.000000e+00</td>\n",
       "      <td>0.000000e+00</td>\n",
       "      <td>-3.276685e+01</td>\n",
       "      <td>-1.231228e+02</td>\n",
       "      <td>-3.276685e+01</td>\n",
       "      <td>-1.231228e+02</td>\n",
       "      <td>1.000000e+00</td>\n",
       "      <td>0.000000e+00</td>\n",
       "    </tr>\n",
       "    <tr>\n",
       "      <th>25%</th>\n",
       "      <td>3.120400e+04</td>\n",
       "      <td>3.120900e+04</td>\n",
       "      <td>3.889054e+01</td>\n",
       "      <td>-7.704513e+01</td>\n",
       "      <td>3.889054e+01</td>\n",
       "      <td>-7.704564e+01</td>\n",
       "      <td>4.170000e+02</td>\n",
       "      <td>3.264506e-02</td>\n",
       "    </tr>\n",
       "    <tr>\n",
       "      <th>50%</th>\n",
       "      <td>3.127100e+04</td>\n",
       "      <td>3.127000e+04</td>\n",
       "      <td>3.890375e+01</td>\n",
       "      <td>-7.703188e+01</td>\n",
       "      <td>3.890289e+01</td>\n",
       "      <td>-7.703162e+01</td>\n",
       "      <td>7.200000e+02</td>\n",
       "      <td>2.583567e-01</td>\n",
       "    </tr>\n",
       "    <tr>\n",
       "      <th>75%</th>\n",
       "      <td>3.160300e+04</td>\n",
       "      <td>3.160300e+04</td>\n",
       "      <td>3.891701e+01</td>\n",
       "      <td>-7.700573e+01</td>\n",
       "      <td>3.891540e+01</td>\n",
       "      <td>-7.700565e+01</td>\n",
       "      <td>1.239000e+03</td>\n",
       "      <td>1.421138e+00</td>\n",
       "    </tr>\n",
       "    <tr>\n",
       "      <th>max</th>\n",
       "      <td>3.290100e+04</td>\n",
       "      <td>3.290200e+04</td>\n",
       "      <td>6.200000e+01</td>\n",
       "      <td>1.515979e+02</td>\n",
       "      <td>6.200000e+01</td>\n",
       "      <td>1.515979e+02</td>\n",
       "      <td>1.442492e+07</td>\n",
       "      <td>2.002125e+04</td>\n",
       "    </tr>\n",
       "  </tbody>\n",
       "</table>\n",
       "</div>"
      ],
      "text/plain": [
       "       start_station_id  end_station_id     start_lat     start_lng  \\\n",
       "count      4.223112e+06    4.223112e+06  4.223112e+06  4.223112e+06   \n",
       "mean       3.135130e+04    3.135238e+04  3.839206e+01 -7.062653e+01   \n",
       "std        4.218553e+02    4.162535e+02  6.217704e+00  2.349201e+01   \n",
       "min        0.000000e+00    0.000000e+00 -3.276685e+01 -1.231228e+02   \n",
       "25%        3.120400e+04    3.120900e+04  3.889054e+01 -7.704513e+01   \n",
       "50%        3.127100e+04    3.127000e+04  3.890375e+01 -7.703188e+01   \n",
       "75%        3.160300e+04    3.160300e+04  3.891701e+01 -7.700573e+01   \n",
       "max        3.290100e+04    3.290200e+04  6.200000e+01  1.515979e+02   \n",
       "\n",
       "            end_lat       end_lng      Duration      distance  \n",
       "count  4.223112e+06  4.223112e+06  4.223112e+06  4.223112e+06  \n",
       "mean   3.851231e+01 -7.074356e+01  1.521693e+03  1.540338e+03  \n",
       "std    5.987855e+00  2.331368e+01  4.339243e+04  4.251207e+03  \n",
       "min   -3.276685e+01 -1.231228e+02  1.000000e+00  0.000000e+00  \n",
       "25%    3.889054e+01 -7.704564e+01  4.170000e+02  3.264506e-02  \n",
       "50%    3.890289e+01 -7.703162e+01  7.200000e+02  2.583567e-01  \n",
       "75%    3.891540e+01 -7.700565e+01  1.239000e+03  1.421138e+00  \n",
       "max    6.200000e+01  1.515979e+02  1.442492e+07  2.002125e+04  "
      ]
     },
     "execution_count": 26,
     "metadata": {},
     "output_type": "execute_result"
    }
   ],
   "source": [
    "df.describe()"
   ]
  },
  {
   "cell_type": "code",
   "execution_count": 32,
   "id": "28308000",
   "metadata": {},
   "outputs": [
    {
     "data": {
      "image/png": "[encoded data removed]",
      "text/plain": [
       "<Figure size 720x720 with 9 Axes>"
      ]
     },
     "metadata": {
      "needs_background": "light"
     },
     "output_type": "display_data"
    }
   ],
   "source": [
    "plt.rcParams[\"figure.figsize\"] = (10,10)\n",
    "df.hist()\n",
    "plt.show()"
   ]
  },
  {
   "cell_type": "markdown",
   "id": "dda90806",
   "metadata": {},
   "source": [
    "### Some useful visualizations "
   ]
  },
  {
   "cell_type": "code",
   "execution_count": 15,
   "id": "ef2f72de",
   "metadata": {},
   "outputs": [
    {
     "data": {
      "image/png": "[encoded data removed]",
      "text/plain": [
       "<Figure size 648x648 with 1 Axes>"
      ]
     },
     "metadata": {
      "needs_background": "light"
     },
     "output_type": "display_data"
    }
   ],
   "source": [
    "# Initialize layout\n",
    "fig, ax = plt.subplots(figsize = (9, 9))\n",
    "\n",
    "# Set the data \n",
    "x = df[(df.member_casual=='member')]['Duration']\n",
    "\n",
    "y = df[(df.member_casual=='member')]['distance']\n",
    "\n",
    "# Add scatterplot\n",
    "ax.scatter(x, y, s=60, alpha=0.7, edgecolors=\"k\")\n",
    "\n",
    "# Fit linear regression via least squares with numpy.polyfit\n",
    "# It returns an slope (b) and intercept (a)\n",
    "# deg=1 means linear fit (i.e. polynomial of degree 1)\n",
    "b, a = np.polyfit(x, y, deg=1)\n",
    "\n",
    "# Create sequence of 100 numbers from 0 to 100 \n",
    "xseq = np.linspace(0, 10, num=100)\n",
    "\n",
    "# Plot regression line\n",
    "ax.plot(xseq, a + b * xseq, color=\"k\", lw=2.5);"
   ]
  },
  {
   "cell_type": "code",
   "execution_count": 16,
   "id": "1081e838",
   "metadata": {},
   "outputs": [
    {
     "data": {
      "image/png": "[encoded data removed]",
      "text/plain": [
       "<Figure size 648x648 with 1 Axes>"
      ]
     },
     "metadata": {
      "needs_background": "light"
     },
     "output_type": "display_data"
    }
   ],
   "source": [
    "# Initialize layout\n",
    "fig, ax = plt.subplots(figsize = (9, 9))\n",
    "\n",
    "# Set the data \n",
    "x = df[(df.member_casual=='casual')]['Duration']\n",
    "\n",
    "y = df[(df.member_casual=='casual')]['distance']\n",
    "\n",
    "# Add scatterplot\n",
    "ax.scatter(x, y, s=60, alpha=0.7, edgecolors=\"k\")\n",
    "\n",
    "# Fit linear regression via least squares with numpy.polyfit\n",
    "# It returns an slope (b) and intercept (a)\n",
    "# deg=1 means linear fit (i.e. polynomial of degree 1)\n",
    "b, a = np.polyfit(x, y, deg=1)\n",
    "\n",
    "# Create sequence of 100 numbers from 0 to 100 \n",
    "xseq = np.linspace(0, 10, num=100)\n",
    "\n",
    "# Plot regression line\n",
    "ax.plot(xseq, a + b * xseq, color=\"k\", lw=2.5);"
   ]
  }
 ],
 "metadata": {
  "kernelspec": {
   "display_name": "Python 3",
   "language": "python",
   "name": "python3"
  },
  "language_info": {
   "codemirror_mode": {
    "name": "ipython",
    "version": 3
   },
   "file_extension": ".py",
   "mimetype": "text/x-python",
   "name": "python",
   "nbconvert_exporter": "python",
   "pygments_lexer": "ipython3",
   "version": "3.7.10"
  }
 },
 "nbformat": 4,
 "nbformat_minor": 5
}
